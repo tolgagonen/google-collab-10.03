{
  "cells": [
    {
      "cell_type": "markdown",
      "metadata": {
        "id": "view-in-github",
        "colab_type": "text"
      },
      "source": [
        "<a href=\"https://colab.research.google.com/github/tolgagonen/google-collab-10.03/blob/main/LSTM_Model_for_disaster_0_71val.ipynb\" target=\"_parent\"><img src=\"https://colab.research.google.com/assets/colab-badge.svg\" alt=\"Open In Colab\"/></a>"
      ]
    },
    {
      "cell_type": "code",
      "source": [
        "pip install nltk"
      ],
      "metadata": {
        "colab": {
          "base_uri": "https://localhost:8080/"
        },
        "id": "aVko0go3_DoL",
        "outputId": "a8940893-ea0a-458f-ff66-7cc5aefe5eb2"
      },
      "execution_count": 1,
      "outputs": [
        {
          "output_type": "stream",
          "name": "stdout",
          "text": [
            "Looking in indexes: https://pypi.org/simple, https://us-python.pkg.dev/colab-wheels/public/simple/\n",
            "Requirement already satisfied: nltk in /usr/local/lib/python3.9/dist-packages (3.7)\n",
            "Requirement already satisfied: tqdm in /usr/local/lib/python3.9/dist-packages (from nltk) (4.65.0)\n",
            "Requirement already satisfied: click in /usr/local/lib/python3.9/dist-packages (from nltk) (8.1.3)\n",
            "Requirement already satisfied: regex>=2021.8.3 in /usr/local/lib/python3.9/dist-packages (from nltk) (2022.6.2)\n",
            "Requirement already satisfied: joblib in /usr/local/lib/python3.9/dist-packages (from nltk) (1.2.0)\n"
          ]
        }
      ]
    },
    {
      "cell_type": "code",
      "source": [
        "import tensorflow as tf\n",
        "from tensorflow import keras\n",
        "import pandas as pd\n",
        "import numpy as np\n",
        "import os\n",
        "import matplotlib.pyplot as plt\n",
        "import time"
      ],
      "metadata": {
        "id": "DmDk7jNRKkmA"
      },
      "execution_count": 2,
      "outputs": []
    },
    {
      "cell_type": "code",
      "source": [
        "df = pd.read_csv(\"train.csv\")"
      ],
      "metadata": {
        "id": "NkU7XfecNv7B"
      },
      "execution_count": 3,
      "outputs": []
    },
    {
      "cell_type": "code",
      "source": [
        "df.shape"
      ],
      "metadata": {
        "id": "QDtNIP3yOrAn",
        "colab": {
          "base_uri": "https://localhost:8080/"
        },
        "outputId": "f3ac7ec0-9228-4f15-bc53-dac7c1a50d88"
      },
      "execution_count": 4,
      "outputs": [
        {
          "output_type": "execute_result",
          "data": {
            "text/plain": [
              "(7613, 5)"
            ]
          },
          "metadata": {},
          "execution_count": 4
        }
      ]
    },
    {
      "cell_type": "code",
      "source": [
        "df.head()"
      ],
      "metadata": {
        "id": "3ZNh6gW8Ol34",
        "colab": {
          "base_uri": "https://localhost:8080/",
          "height": 206
        },
        "outputId": "7fd637e9-8887-40e2-e10e-5b46b3bccba1"
      },
      "execution_count": 5,
      "outputs": [
        {
          "output_type": "execute_result",
          "data": {
            "text/plain": [
              "   id keyword location                                               text  \\\n",
              "0   1     NaN      NaN  Our Deeds are the Reason of this #earthquake M...   \n",
              "1   4     NaN      NaN             Forest fire near La Ronge Sask. Canada   \n",
              "2   5     NaN      NaN  All residents asked to 'shelter in place' are ...   \n",
              "3   6     NaN      NaN  13,000 people receive #wildfires evacuation or...   \n",
              "4   7     NaN      NaN  Just got sent this photo from Ruby #Alaska as ...   \n",
              "\n",
              "   target  \n",
              "0       1  \n",
              "1       1  \n",
              "2       1  \n",
              "3       1  \n",
              "4       1  "
            ],
            "text/html": [
              "\n",
              "  <div id=\"df-7aeafcc3-6069-4f1c-a8df-7fa789de2b90\">\n",
              "    <div class=\"colab-df-container\">\n",
              "      <div>\n",
              "<style scoped>\n",
              "    .dataframe tbody tr th:only-of-type {\n",
              "        vertical-align: middle;\n",
              "    }\n",
              "\n",
              "    .dataframe tbody tr th {\n",
              "        vertical-align: top;\n",
              "    }\n",
              "\n",
              "    .dataframe thead th {\n",
              "        text-align: right;\n",
              "    }\n",
              "</style>\n",
              "<table border=\"1\" class=\"dataframe\">\n",
              "  <thead>\n",
              "    <tr style=\"text-align: right;\">\n",
              "      <th></th>\n",
              "      <th>id</th>\n",
              "      <th>keyword</th>\n",
              "      <th>location</th>\n",
              "      <th>text</th>\n",
              "      <th>target</th>\n",
              "    </tr>\n",
              "  </thead>\n",
              "  <tbody>\n",
              "    <tr>\n",
              "      <th>0</th>\n",
              "      <td>1</td>\n",
              "      <td>NaN</td>\n",
              "      <td>NaN</td>\n",
              "      <td>Our Deeds are the Reason of this #earthquake M...</td>\n",
              "      <td>1</td>\n",
              "    </tr>\n",
              "    <tr>\n",
              "      <th>1</th>\n",
              "      <td>4</td>\n",
              "      <td>NaN</td>\n",
              "      <td>NaN</td>\n",
              "      <td>Forest fire near La Ronge Sask. Canada</td>\n",
              "      <td>1</td>\n",
              "    </tr>\n",
              "    <tr>\n",
              "      <th>2</th>\n",
              "      <td>5</td>\n",
              "      <td>NaN</td>\n",
              "      <td>NaN</td>\n",
              "      <td>All residents asked to 'shelter in place' are ...</td>\n",
              "      <td>1</td>\n",
              "    </tr>\n",
              "    <tr>\n",
              "      <th>3</th>\n",
              "      <td>6</td>\n",
              "      <td>NaN</td>\n",
              "      <td>NaN</td>\n",
              "      <td>13,000 people receive #wildfires evacuation or...</td>\n",
              "      <td>1</td>\n",
              "    </tr>\n",
              "    <tr>\n",
              "      <th>4</th>\n",
              "      <td>7</td>\n",
              "      <td>NaN</td>\n",
              "      <td>NaN</td>\n",
              "      <td>Just got sent this photo from Ruby #Alaska as ...</td>\n",
              "      <td>1</td>\n",
              "    </tr>\n",
              "  </tbody>\n",
              "</table>\n",
              "</div>\n",
              "      <button class=\"colab-df-convert\" onclick=\"convertToInteractive('df-7aeafcc3-6069-4f1c-a8df-7fa789de2b90')\"\n",
              "              title=\"Convert this dataframe to an interactive table.\"\n",
              "              style=\"display:none;\">\n",
              "        \n",
              "  <svg xmlns=\"http://www.w3.org/2000/svg\" height=\"24px\"viewBox=\"0 0 24 24\"\n",
              "       width=\"24px\">\n",
              "    <path d=\"M0 0h24v24H0V0z\" fill=\"none\"/>\n",
              "    <path d=\"M18.56 5.44l.94 2.06.94-2.06 2.06-.94-2.06-.94-.94-2.06-.94 2.06-2.06.94zm-11 1L8.5 8.5l.94-2.06 2.06-.94-2.06-.94L8.5 2.5l-.94 2.06-2.06.94zm10 10l.94 2.06.94-2.06 2.06-.94-2.06-.94-.94-2.06-.94 2.06-2.06.94z\"/><path d=\"M17.41 7.96l-1.37-1.37c-.4-.4-.92-.59-1.43-.59-.52 0-1.04.2-1.43.59L10.3 9.45l-7.72 7.72c-.78.78-.78 2.05 0 2.83L4 21.41c.39.39.9.59 1.41.59.51 0 1.02-.2 1.41-.59l7.78-7.78 2.81-2.81c.8-.78.8-2.07 0-2.86zM5.41 20L4 18.59l7.72-7.72 1.47 1.35L5.41 20z\"/>\n",
              "  </svg>\n",
              "      </button>\n",
              "      \n",
              "  <style>\n",
              "    .colab-df-container {\n",
              "      display:flex;\n",
              "      flex-wrap:wrap;\n",
              "      gap: 12px;\n",
              "    }\n",
              "\n",
              "    .colab-df-convert {\n",
              "      background-color: #E8F0FE;\n",
              "      border: none;\n",
              "      border-radius: 50%;\n",
              "      cursor: pointer;\n",
              "      display: none;\n",
              "      fill: #1967D2;\n",
              "      height: 32px;\n",
              "      padding: 0 0 0 0;\n",
              "      width: 32px;\n",
              "    }\n",
              "\n",
              "    .colab-df-convert:hover {\n",
              "      background-color: #E2EBFA;\n",
              "      box-shadow: 0px 1px 2px rgba(60, 64, 67, 0.3), 0px 1px 3px 1px rgba(60, 64, 67, 0.15);\n",
              "      fill: #174EA6;\n",
              "    }\n",
              "\n",
              "    [theme=dark] .colab-df-convert {\n",
              "      background-color: #3B4455;\n",
              "      fill: #D2E3FC;\n",
              "    }\n",
              "\n",
              "    [theme=dark] .colab-df-convert:hover {\n",
              "      background-color: #434B5C;\n",
              "      box-shadow: 0px 1px 3px 1px rgba(0, 0, 0, 0.15);\n",
              "      filter: drop-shadow(0px 1px 2px rgba(0, 0, 0, 0.3));\n",
              "      fill: #FFFFFF;\n",
              "    }\n",
              "  </style>\n",
              "\n",
              "      <script>\n",
              "        const buttonEl =\n",
              "          document.querySelector('#df-7aeafcc3-6069-4f1c-a8df-7fa789de2b90 button.colab-df-convert');\n",
              "        buttonEl.style.display =\n",
              "          google.colab.kernel.accessAllowed ? 'block' : 'none';\n",
              "\n",
              "        async function convertToInteractive(key) {\n",
              "          const element = document.querySelector('#df-7aeafcc3-6069-4f1c-a8df-7fa789de2b90');\n",
              "          const dataTable =\n",
              "            await google.colab.kernel.invokeFunction('convertToInteractive',\n",
              "                                                     [key], {});\n",
              "          if (!dataTable) return;\n",
              "\n",
              "          const docLinkHtml = 'Like what you see? Visit the ' +\n",
              "            '<a target=\"_blank\" href=https://colab.research.google.com/notebooks/data_table.ipynb>data table notebook</a>'\n",
              "            + ' to learn more about interactive tables.';\n",
              "          element.innerHTML = '';\n",
              "          dataTable['output_type'] = 'display_data';\n",
              "          await google.colab.output.renderOutput(dataTable, element);\n",
              "          const docLink = document.createElement('div');\n",
              "          docLink.innerHTML = docLinkHtml;\n",
              "          element.appendChild(docLink);\n",
              "        }\n",
              "      </script>\n",
              "    </div>\n",
              "  </div>\n",
              "  "
            ]
          },
          "metadata": {},
          "execution_count": 5
        }
      ]
    },
    {
      "cell_type": "code",
      "source": [
        "print((df.target == 1).sum()) # disaster\n",
        "print((df.target == 0).sum()) # no disaster"
      ],
      "metadata": {
        "colab": {
          "base_uri": "https://localhost:8080/"
        },
        "id": "huGMSWpYOpk7",
        "outputId": "0925c801-f530-41d7-960d-741899c330e5"
      },
      "execution_count": 6,
      "outputs": [
        {
          "output_type": "stream",
          "name": "stdout",
          "text": [
            "3271\n",
            "4342\n"
          ]
        }
      ]
    },
    {
      "cell_type": "code",
      "source": [
        "# preprocessing \n",
        "import re\n",
        "import string\n",
        "\n",
        "def remove_URL(text):\n",
        "    url =re.compile(r\"https?://\\S+|www\\.\\S+\")\n",
        "    return url.sub(r\"\", text)\n",
        "\n",
        "def remove_punct(text):\n",
        "    translator = str.maketrans(\"\",\"\", string.punctuation)\n",
        "    return text.translate(translator)\n",
        "\n",
        "string.punctuation\n"
      ],
      "metadata": {
        "id": "NeHcMN7rRxg8",
        "colab": {
          "base_uri": "https://localhost:8080/",
          "height": 36
        },
        "outputId": "42dc0692-92c9-45e0-be2d-308bbfdb5790"
      },
      "execution_count": 7,
      "outputs": [
        {
          "output_type": "execute_result",
          "data": {
            "text/plain": [
              "'!\"#$%&\\'()*+,-./:;<=>?@[\\\\]^_`{|}~'"
            ],
            "application/vnd.google.colaboratory.intrinsic+json": {
              "type": "string"
            }
          },
          "metadata": {},
          "execution_count": 7
        }
      ]
    },
    {
      "cell_type": "code",
      "source": [
        "pattern = re.compile(r\"https?://(S+|www)\\.\\S+\")\n",
        "for t in df.text:\n",
        "  matches =pattern.findall(t)\n",
        "  for match in matches:\n",
        "    print(t)\n",
        "    print(match)\n",
        "    print(pattern.sub(r\"\" , t))\n",
        "  if len(matches) > 0:\n",
        "    break\n",
        "\n"
      ],
      "metadata": {
        "colab": {
          "base_uri": "https://localhost:8080/"
        },
        "id": "Gxp_c88IYiSA",
        "outputId": "2f0a31bd-4fc4-41e6-e83b-732faf5df10a"
      },
      "execution_count": 8,
      "outputs": [
        {
          "output_type": "stream",
          "name": "stdout",
          "text": [
            "Dozens Die As two Trains Derail Into A River In Indiahttp://www.informationng.com/?p=309943\n",
            "www\n",
            "Dozens Die As two Trains Derail Into A River In India\n"
          ]
        }
      ]
    },
    {
      "cell_type": "code",
      "source": [
        "df[\"text\"] = df.text.map(remove_URL)\n",
        "df[\"text\"] = df.text.map(remove_punct)"
      ],
      "metadata": {
        "id": "3OrnjWrm9ac1"
      },
      "execution_count": 9,
      "outputs": []
    },
    {
      "cell_type": "code",
      "source": [
        "#remove stopwords\n",
        "#pip install nltk\n",
        "import nltk\n",
        "nltk.download('stopwords')\n",
        "from nltk.corpus import stopwords\n",
        "#stop words A stop words is a commonly used word (such as \"the\" , \"a\")\n",
        "\n",
        "stop= set(stopwords.words(\"english\"))\n",
        "stop2= set(stopwords.words(\"turkish\"))\n",
        "\n",
        "def remove_stopwords(text):\n",
        "  filtered_words = [word.lower() for word in text.split() if word.lower() not in stop]\n",
        "  return \" \".join(filtered_words)"
      ],
      "metadata": {
        "id": "qquy1ExoZrYD",
        "colab": {
          "base_uri": "https://localhost:8080/"
        },
        "outputId": "39069048-5746-4cb6-e80c-42047d551198"
      },
      "execution_count": 10,
      "outputs": [
        {
          "output_type": "stream",
          "name": "stderr",
          "text": [
            "[nltk_data] Downloading package stopwords to /root/nltk_data...\n",
            "[nltk_data]   Unzipping corpora/stopwords.zip.\n"
          ]
        }
      ]
    },
    {
      "cell_type": "code",
      "source": [
        "df[\"text\"] = df.text.map(remove_stopwords)"
      ],
      "metadata": {
        "id": "LE--1mhNA6wn"
      },
      "execution_count": 11,
      "outputs": []
    },
    {
      "cell_type": "code",
      "source": [
        "df.text"
      ],
      "metadata": {
        "colab": {
          "base_uri": "https://localhost:8080/"
        },
        "id": "GL0XfIqlCr9O",
        "outputId": "32fc59aa-3093-4664-f2fd-f7e369329062"
      },
      "execution_count": 12,
      "outputs": [
        {
          "output_type": "execute_result",
          "data": {
            "text/plain": [
              "0            deeds reason earthquake may allah forgive us\n",
              "1                   forest fire near la ronge sask canada\n",
              "2       residents asked shelter place notified officer...\n",
              "3       13000 people receive wildfires evacuation orde...\n",
              "4       got sent photo ruby alaska smoke wildfires pou...\n",
              "                              ...                        \n",
              "7608    two giant cranes holding bridge collapse nearb...\n",
              "7609    ariaahrary thetawniest control wild fires cali...\n",
              "7610                      m194 0104 utc5km volcano hawaii\n",
              "7611    police investigating ebike collided car little...\n",
              "7612    latest homes razed northern california wildfir...\n",
              "Name: text, Length: 7613, dtype: object"
            ]
          },
          "metadata": {},
          "execution_count": 12
        }
      ]
    },
    {
      "cell_type": "code",
      "source": [
        "from collections import Counter\n",
        "\n",
        "#count unique words\n",
        "\n",
        "def counter_word(text_col):\n",
        "  count = Counter()\n",
        "  for text in text_col.values:\n",
        "    for word in text.split():\n",
        "      count[word] += 1\n",
        "  return count\n",
        "\n",
        "counter = counter_word(df.text)"
      ],
      "metadata": {
        "id": "_461d9ZqCvTz"
      },
      "execution_count": 13,
      "outputs": []
    },
    {
      "cell_type": "code",
      "source": [
        "len(counter)"
      ],
      "metadata": {
        "colab": {
          "base_uri": "https://localhost:8080/"
        },
        "id": "pZPHxfYtDIwT",
        "outputId": "9449fee8-f043-458c-bd07-7e92e0a75820"
      },
      "execution_count": 14,
      "outputs": [
        {
          "output_type": "execute_result",
          "data": {
            "text/plain": [
              "17971"
            ]
          },
          "metadata": {},
          "execution_count": 14
        }
      ]
    },
    {
      "cell_type": "code",
      "source": [
        "counter.most_common(5)"
      ],
      "metadata": {
        "colab": {
          "base_uri": "https://localhost:8080/"
        },
        "id": "LG92SYz_DTKc",
        "outputId": "8a120433-8480-41e1-d460-a012960e393d"
      },
      "execution_count": 15,
      "outputs": [
        {
          "output_type": "execute_result",
          "data": {
            "text/plain": [
              "[('like', 345), ('im', 299), ('amp', 298), ('fire', 250), ('get', 229)]"
            ]
          },
          "metadata": {},
          "execution_count": 15
        }
      ]
    },
    {
      "cell_type": "code",
      "source": [
        "num_unique_words = len(counter)"
      ],
      "metadata": {
        "id": "WhKCCsmRDXlb"
      },
      "execution_count": 32,
      "outputs": []
    },
    {
      "cell_type": "code",
      "source": [
        "train_size = int(df.shape[0] * 0.8) # tüm datnaıan yüzde 80\n",
        "\n",
        "train_df = df[:train_size]\n",
        "val_df = df[train_size:]\n",
        "\n",
        "train_sentences = train_df.text.to_numpy()\n",
        "train_labels = train_df.target.to_numpy()\n",
        "val_sentences = val_df.text.to_numpy()\n",
        "val_labels = val_df.target.to_numpy()\n"
      ],
      "metadata": {
        "id": "m9_51MHFbPGS"
      },
      "execution_count": 17,
      "outputs": []
    },
    {
      "cell_type": "code",
      "source": [
        "train_sentences.shape , val_sentences.shape"
      ],
      "metadata": {
        "colab": {
          "base_uri": "https://localhost:8080/"
        },
        "id": "Rj0EXbRub2bm",
        "outputId": "e8b134dd-35eb-4da5-ac2b-c8fa7e3219e5"
      },
      "execution_count": 18,
      "outputs": [
        {
          "output_type": "execute_result",
          "data": {
            "text/plain": [
              "((6090,), (1523,))"
            ]
          },
          "metadata": {},
          "execution_count": 18
        }
      ]
    },
    {
      "cell_type": "code",
      "source": [
        "#tokenize\n",
        "\n",
        "from tensorflow.keras.preprocessing.text import Tokenizer\n",
        "\n",
        "#vectorize a text corpus by turning each text into a sequance of integers\n",
        "tokenizer = Tokenizer(num_words=num_unique_words)\n",
        "tokenizer.fit_on_texts(train_sentences)\n"
      ],
      "metadata": {
        "id": "Doc__MoRb6gH"
      },
      "execution_count": 33,
      "outputs": []
    },
    {
      "cell_type": "code",
      "source": [
        "#each word has unique index\n",
        "word_index = tokenizer.word_index"
      ],
      "metadata": {
        "id": "ZYQIEoE4cgzV"
      },
      "execution_count": 20,
      "outputs": []
    },
    {
      "cell_type": "code",
      "source": [
        "word_index"
      ],
      "metadata": {
        "colab": {
          "base_uri": "https://localhost:8080/"
        },
        "id": "1gAuyyuucnQG",
        "outputId": "25e356c3-c65c-4054-dcdb-ec90bc03e1bd"
      },
      "execution_count": 21,
      "outputs": [
        {
          "output_type": "execute_result",
          "data": {
            "text/plain": [
              "{'like': 1,\n",
              " 'amp': 2,\n",
              " 'fire': 3,\n",
              " 'im': 4,\n",
              " 'get': 5,\n",
              " 'via': 6,\n",
              " 'new': 7,\n",
              " 'people': 8,\n",
              " 'news': 9,\n",
              " 'dont': 10,\n",
              " 'emergency': 11,\n",
              " 'one': 12,\n",
              " '2': 13,\n",
              " 'us': 14,\n",
              " 'video': 15,\n",
              " 'disaster': 16,\n",
              " 'burning': 17,\n",
              " 'body': 18,\n",
              " 'would': 19,\n",
              " 'buildings': 20,\n",
              " 'police': 21,\n",
              " 'crash': 22,\n",
              " 'first': 23,\n",
              " 'california': 24,\n",
              " 'still': 25,\n",
              " 'man': 26,\n",
              " 'got': 27,\n",
              " 'know': 28,\n",
              " 'day': 29,\n",
              " 'back': 30,\n",
              " 'going': 31,\n",
              " 'two': 32,\n",
              " 'time': 33,\n",
              " 'full': 34,\n",
              " 'accident': 35,\n",
              " 'see': 36,\n",
              " 'world': 37,\n",
              " 'attack': 38,\n",
              " 'nuclear': 39,\n",
              " 'youtube': 40,\n",
              " 'may': 41,\n",
              " 'love': 42,\n",
              " 'go': 43,\n",
              " 'rt': 44,\n",
              " 'many': 45,\n",
              " 'cant': 46,\n",
              " '3': 47,\n",
              " 'watch': 48,\n",
              " 'collapse': 49,\n",
              " 'dead': 50,\n",
              " 'today': 51,\n",
              " 'car': 52,\n",
              " 'mass': 53,\n",
              " 'want': 54,\n",
              " 'years': 55,\n",
              " 'work': 56,\n",
              " 'train': 57,\n",
              " 'last': 58,\n",
              " 'good': 59,\n",
              " 'think': 60,\n",
              " 'families': 61,\n",
              " 'hiroshima': 62,\n",
              " 'life': 63,\n",
              " 'fires': 64,\n",
              " 'best': 65,\n",
              " 'could': 66,\n",
              " 'say': 67,\n",
              " 'u': 68,\n",
              " 'death': 69,\n",
              " 'hot': 70,\n",
              " 'forest': 71,\n",
              " 'way': 72,\n",
              " 'killed': 73,\n",
              " 'need': 74,\n",
              " 'legionnaires': 75,\n",
              " 'war': 76,\n",
              " 'fatal': 77,\n",
              " 'home': 78,\n",
              " 'black': 79,\n",
              " '4': 80,\n",
              " 'really': 81,\n",
              " 'take': 82,\n",
              " 'another': 83,\n",
              " 'right': 84,\n",
              " 'even': 85,\n",
              " 'flames': 86,\n",
              " 'make': 87,\n",
              " 'fear': 88,\n",
              " 'bomb': 89,\n",
              " 'floods': 90,\n",
              " 'school': 91,\n",
              " 'youre': 92,\n",
              " '1': 93,\n",
              " 'atomic': 94,\n",
              " 'look': 95,\n",
              " 'please': 96,\n",
              " 'let': 97,\n",
              " 'homes': 98,\n",
              " 'flood': 99,\n",
              " 'every': 100,\n",
              " 'help': 101,\n",
              " 'latest': 102,\n",
              " 'year': 103,\n",
              " 'storm': 104,\n",
              " 'content': 105,\n",
              " '5': 106,\n",
              " 'injured': 107,\n",
              " 'read': 108,\n",
              " '2015': 109,\n",
              " 'oil': 110,\n",
              " 'damage': 111,\n",
              " 'truck': 112,\n",
              " 'city': 113,\n",
              " 'lol': 114,\n",
              " 'water': 115,\n",
              " 'evacuation': 116,\n",
              " 'flooding': 117,\n",
              " 'much': 118,\n",
              " 'debris': 119,\n",
              " 'army': 120,\n",
              " 'japan': 121,\n",
              " 'never': 122,\n",
              " 'military': 123,\n",
              " 'northern': 124,\n",
              " 'ass': 125,\n",
              " 'cross': 126,\n",
              " 'top': 127,\n",
              " 'come': 128,\n",
              " 'near': 129,\n",
              " '\\x89û': 130,\n",
              " 'hit': 131,\n",
              " 'shit': 132,\n",
              " 'next': 133,\n",
              " 'great': 134,\n",
              " 'food': 135,\n",
              " 'plan': 136,\n",
              " 'reddit': 137,\n",
              " 'getting': 138,\n",
              " 'set': 139,\n",
              " 'night': 140,\n",
              " 'screaming': 141,\n",
              " 'found': 142,\n",
              " 'little': 143,\n",
              " 'services': 144,\n",
              " 'wildfire': 145,\n",
              " 'natural': 146,\n",
              " 'stop': 147,\n",
              " 'bloody': 148,\n",
              " 'murder': 149,\n",
              " 'since': 150,\n",
              " 'feel': 151,\n",
              " 'bags': 152,\n",
              " 'spill': 153,\n",
              " 'injuries': 154,\n",
              " 'refugees': 155,\n",
              " 'heat': 156,\n",
              " 'always': 157,\n",
              " 'god': 158,\n",
              " 'ever': 159,\n",
              " 'face': 160,\n",
              " 'times': 161,\n",
              " 'destroy': 162,\n",
              " 'said': 163,\n",
              " 'well': 164,\n",
              " 'thats': 165,\n",
              " 'fall': 166,\n",
              " 'evacuate': 167,\n",
              " 'derailment': 168,\n",
              " 'panic': 169,\n",
              " 'outbreak': 170,\n",
              " 'check': 171,\n",
              " 'everyone': 172,\n",
              " 'explosion': 173,\n",
              " 'family': 174,\n",
              " 'attacked': 175,\n",
              " 'rescue': 176,\n",
              " 'deaths': 177,\n",
              " 'fatalities': 178,\n",
              " 'sinkhole': 179,\n",
              " 'coming': 180,\n",
              " 'ambulance': 181,\n",
              " 'blood': 182,\n",
              " 'hurricane': 183,\n",
              " 'bridge': 184,\n",
              " 'explode': 185,\n",
              " 'collided': 186,\n",
              " 'loud': 187,\n",
              " 'live': 188,\n",
              " 'gonna': 189,\n",
              " 'burned': 190,\n",
              " 'air': 191,\n",
              " 'weather': 192,\n",
              " 'destruction': 193,\n",
              " 'boy': 194,\n",
              " 'hope': 195,\n",
              " 'destroyed': 196,\n",
              " 'bag': 197,\n",
              " 'ruin': 198,\n",
              " 'rescued': 199,\n",
              " 'injury': 200,\n",
              " 'fucking': 201,\n",
              " 'free': 202,\n",
              " 'cause': 203,\n",
              " 'bad': 204,\n",
              " 'armageddon': 205,\n",
              " 'hail': 206,\n",
              " 'says': 207,\n",
              " 'wind': 208,\n",
              " 'rescuers': 209,\n",
              " 'catastrophe': 210,\n",
              " 'collapsed': 211,\n",
              " 'harm': 212,\n",
              " 'landslide': 213,\n",
              " 'curfew': 214,\n",
              " 'deluge': 215,\n",
              " 'migrants': 216,\n",
              " 'dust': 217,\n",
              " 'hostages': 218,\n",
              " 'mudslide': 219,\n",
              " 'sandstorm': 220,\n",
              " 'w': 221,\n",
              " '70': 222,\n",
              " 'save': 223,\n",
              " 'charged': 224,\n",
              " 'lives': 225,\n",
              " 'rioting': 226,\n",
              " 'riot': 227,\n",
              " 'drought': 228,\n",
              " 'danger': 229,\n",
              " 'drowning': 230,\n",
              " 'engulfed': 231,\n",
              " 'screamed': 232,\n",
              " 'massacre': 233,\n",
              " 'quarantined': 234,\n",
              " 'earthquake': 235,\n",
              " 'theres': 236,\n",
              " 'summer': 237,\n",
              " '40': 238,\n",
              " 'also': 239,\n",
              " 'crashed': 240,\n",
              " 'house': 241,\n",
              " 'liked': 242,\n",
              " 'post': 243,\n",
              " 'bleeding': 244,\n",
              " 'bombed': 245,\n",
              " 'hazard': 246,\n",
              " 'displaced': 247,\n",
              " 'service': 248,\n",
              " 'hazardous': 249,\n",
              " 'cliff': 250,\n",
              " 'crush': 251,\n",
              " 'derail': 252,\n",
              " 'devastation': 253,\n",
              " 'inundated': 254,\n",
              " 'quarantine': 255,\n",
              " 'ive': 256,\n",
              " 'end': 257,\n",
              " 'road': 258,\n",
              " 'airplane': 259,\n",
              " 'looks': 260,\n",
              " 'change': 261,\n",
              " 'high': 262,\n",
              " 'real': 263,\n",
              " 'missing': 264,\n",
              " 'battle': 265,\n",
              " 'fedex': 266,\n",
              " 'keep': 267,\n",
              " 'report': 268,\n",
              " 'lightning': 269,\n",
              " 'blown': 270,\n",
              " 'casualties': 271,\n",
              " 'hundreds': 272,\n",
              " 'desolation': 273,\n",
              " 'electrocuted': 274,\n",
              " 'exploded': 275,\n",
              " 'famine': 276,\n",
              " 'lava': 277,\n",
              " 'around': 278,\n",
              " '\\x89ûò': 279,\n",
              " 'hes': 280,\n",
              " 'things': 281,\n",
              " 'bombing': 282,\n",
              " 'made': 283,\n",
              " 'bioterror': 284,\n",
              " 'hostage': 285,\n",
              " 'blew': 286,\n",
              " 'drown': 287,\n",
              " 'anniversary': 288,\n",
              " 'chemical': 289,\n",
              " 'collide': 290,\n",
              " 'derailed': 291,\n",
              " 'detonate': 292,\n",
              " 'flattened': 293,\n",
              " 'bang': 294,\n",
              " 'panicking': 295,\n",
              " 'rain': 296,\n",
              " 'wave': 297,\n",
              " 'ill': 298,\n",
              " 'game': 299,\n",
              " 'meltdown': 300,\n",
              " 'iran': 301,\n",
              " 'without': 302,\n",
              " 'apocalypse': 303,\n",
              " 'big': 304,\n",
              " 'obama': 305,\n",
              " 'market': 306,\n",
              " 'boat': 307,\n",
              " 'mh370': 308,\n",
              " 'hijacker': 309,\n",
              " 'hijacking': 310,\n",
              " 'screams': 311,\n",
              " 'breaking': 312,\n",
              " 'head': 313,\n",
              " 'past': 314,\n",
              " 'someone': 315,\n",
              " 'state': 316,\n",
              " 'run': 317,\n",
              " 'annihilated': 318,\n",
              " 'away': 319,\n",
              " 'girl': 320,\n",
              " 'white': 321,\n",
              " 'story': 322,\n",
              " 'twitter': 323,\n",
              " 'longer': 324,\n",
              " 'put': 325,\n",
              " 'bagging': 326,\n",
              " 'affected': 327,\n",
              " 'responders': 328,\n",
              " 'collision': 329,\n",
              " 'demolish': 330,\n",
              " 'detonation': 331,\n",
              " 'evacuated': 332,\n",
              " 'obliterated': 333,\n",
              " 'pandemonium': 334,\n",
              " 'area': 335,\n",
              " 'bus': 336,\n",
              " 'tonight': 337,\n",
              " 'came': 338,\n",
              " 'reunion': 339,\n",
              " 'island': 340,\n",
              " 'national': 341,\n",
              " 'show': 342,\n",
              " 'arson': 343,\n",
              " 'woman': 344,\n",
              " 'women': 345,\n",
              " 'shoulder': 346,\n",
              " 'send': 347,\n",
              " 'crushed': 348,\n",
              " 'blast': 349,\n",
              " 'demolished': 350,\n",
              " 'demolition': 351,\n",
              " 'drowned': 352,\n",
              " 'fatality': 353,\n",
              " 'prebreak': 354,\n",
              " 'obliterate': 355,\n",
              " 'obliteration': 356,\n",
              " 'razed': 357,\n",
              " 'photo': 358,\n",
              " 'update': 359,\n",
              " 'week': 360,\n",
              " 'better': 361,\n",
              " 'traffic': 362,\n",
              " 'heard': 363,\n",
              " 'ebay': 364,\n",
              " 'went': 365,\n",
              " 'id': 366,\n",
              " 'fan': 367,\n",
              " 'blazing': 368,\n",
              " 'catastrophic': 369,\n",
              " 'eyewitness': 370,\n",
              " 'hellfire': 371,\n",
              " 'murderer': 372,\n",
              " 'due': 373,\n",
              " 'county': 374,\n",
              " 'ablaze': 375,\n",
              " 'st': 376,\n",
              " 'least': 377,\n",
              " 'pm': 378,\n",
              " 'horrible': 379,\n",
              " 'left': 380,\n",
              " 'possible': 381,\n",
              " 'call': 382,\n",
              " 'river': 383,\n",
              " 'long': 384,\n",
              " 'fuck': 385,\n",
              " 'power': 386,\n",
              " 'light': 387,\n",
              " 'land': 388,\n",
              " 'baby': 389,\n",
              " 'cyclone': 390,\n",
              " 'electrocute': 391,\n",
              " 'hijack': 392,\n",
              " 'sue': 393,\n",
              " 'rainstorm': 394,\n",
              " 'died': 395,\n",
              " 'cool': 396,\n",
              " 'care': 397,\n",
              " 'use': 398,\n",
              " 'goes': 399,\n",
              " 'government': 400,\n",
              " 'airport': 401,\n",
              " 'believe': 402,\n",
              " 'phone': 403,\n",
              " 'kill': 404,\n",
              " 'group': 405,\n",
              " 'lab': 406,\n",
              " 'oh': 407,\n",
              " 'song': 408,\n",
              " 'policy': 409,\n",
              " 'stock': 410,\n",
              " 'far': 411,\n",
              " 'thank': 412,\n",
              " 'minute': 413,\n",
              " 'brown': 414,\n",
              " 'wake': 415,\n",
              " 'thought': 416,\n",
              " 'red': 417,\n",
              " 'heart': 418,\n",
              " '8': 419,\n",
              " 'sound': 420,\n",
              " 'avalanche': 421,\n",
              " 'calgary': 422,\n",
              " 'health': 423,\n",
              " 're\\x89û': 424,\n",
              " 'nearby': 425,\n",
              " 'bush': 426,\n",
              " 'casualty': 427,\n",
              " '6': 428,\n",
              " 'deluged': 429,\n",
              " 'seismic': 430,\n",
              " 'reactor': 431,\n",
              " 'building': 432,\n",
              " 'whats': 433,\n",
              " 'used': 434,\n",
              " 'something': 435,\n",
              " 'didnt': 436,\n",
              " '9': 437,\n",
              " 'plans': 438,\n",
              " 'shooting': 439,\n",
              " 'thing': 440,\n",
              " 'play': 441,\n",
              " 'must': 442,\n",
              " 'whole': 443,\n",
              " 'tomorrow': 444,\n",
              " 'part': 445,\n",
              " 'officials': 446,\n",
              " 'india': 447,\n",
              " 'music': 448,\n",
              " 'nothing': 449,\n",
              " 'blight': 450,\n",
              " 'ur': 451,\n",
              " 'rubble': 452,\n",
              " 'swallowed': 453,\n",
              " 'thanks': 454,\n",
              " 'issues': 455,\n",
              " 'done': 456,\n",
              " 'bc': 457,\n",
              " 'soon': 458,\n",
              " 'start': 459,\n",
              " 'children': 460,\n",
              " 'business': 461,\n",
              " 'yet': 462,\n",
              " 'sure': 463,\n",
              " 'bioterrorism': 464,\n",
              " 'wanna': 465,\n",
              " 'old': 466,\n",
              " 'half': 467,\n",
              " 'bigger': 468,\n",
              " 'rise': 469,\n",
              " 'south': 470,\n",
              " 'tell': 471,\n",
              " 'support': 472,\n",
              " 'already': 473,\n",
              " 'die': 474,\n",
              " 'men': 475,\n",
              " 'aircraft': 476,\n",
              " 'wont': 477,\n",
              " 'bar': 478,\n",
              " 'peace': 479,\n",
              " 'data': 480,\n",
              " 'pick': 481,\n",
              " 'amid': 482,\n",
              " 'anything': 483,\n",
              " 'stay': 484,\n",
              " 'media': 485,\n",
              " 'remember': 486,\n",
              " 'deal': 487,\n",
              " '7': 488,\n",
              " 'transport': 489,\n",
              " 'doesnt': 490,\n",
              " 'searching': 491,\n",
              " 'effect': 492,\n",
              " 'manslaughter': 493,\n",
              " 'projected': 494,\n",
              " 'place': 495,\n",
              " '30': 496,\n",
              " 'kids': 497,\n",
              " 'n': 498,\n",
              " 'actually': 499,\n",
              " 'making': 500,\n",
              " 'job': 501,\n",
              " 'almost': 502,\n",
              " 'plane': 503,\n",
              " 'ago': 504,\n",
              " 'feared': 505,\n",
              " 'ok': 506,\n",
              " 'lot': 507,\n",
              " 'annihilation': 508,\n",
              " 'warning': 509,\n",
              " 'crisis': 510,\n",
              " 'blaze': 511,\n",
              " 'yeah': 512,\n",
              " 'trying': 513,\n",
              " 'yes': 514,\n",
              " 'lets': 515,\n",
              " 'line': 516,\n",
              " 'probably': 517,\n",
              " 'bodies': 518,\n",
              " 'desolate': 519,\n",
              " 'three': 520,\n",
              " 'wait': 521,\n",
              " 'days': 522,\n",
              " 'flag': 523,\n",
              " 'leave': 524,\n",
              " 'north': 525,\n",
              " 'gets': 526,\n",
              " 'jobs': 527,\n",
              " 'helicopter': 528,\n",
              " 'history': 529,\n",
              " 'fun': 530,\n",
              " 'order': 531,\n",
              " 'august': 532,\n",
              " 'movie': 533,\n",
              " 'womens': 534,\n",
              " 'leather': 535,\n",
              " 'american': 536,\n",
              " 'makes': 537,\n",
              " 'youth': 538,\n",
              " 'literally': 539,\n",
              " 'person': 540,\n",
              " 'guys': 541,\n",
              " 'photos': 542,\n",
              " 'saved': 543,\n",
              " 'waves': 544,\n",
              " '11yearold': 545,\n",
              " 'hat': 546,\n",
              " 'refugio': 547,\n",
              " 'costlier': 548,\n",
              " 'offensive': 549,\n",
              " '20': 550,\n",
              " 'inside': 551,\n",
              " 'shot': 552,\n",
              " 'rd': 553,\n",
              " '12': 554,\n",
              " 'everything': 555,\n",
              " 'ball': 556,\n",
              " 'case': 557,\n",
              " 'hell': 558,\n",
              " 'stand': 559,\n",
              " 'hours': 560,\n",
              " 'tv': 561,\n",
              " 'israeli': 562,\n",
              " 'beautiful': 563,\n",
              " 'anthrax': 564,\n",
              " 'computers': 565,\n",
              " 'angry': 566,\n",
              " 'trains': 567,\n",
              " 'malaysia': 568,\n",
              " 'abc': 569,\n",
              " 'banned': 570,\n",
              " 'ignition': 571,\n",
              " 'knock': 572,\n",
              " 'picking': 573,\n",
              " 'hailstorm': 574,\n",
              " 'mayhem': 575,\n",
              " 'la': 576,\n",
              " 'street': 577,\n",
              " '\\x89ûó': 578,\n",
              " 'finally': 579,\n",
              " 'aftershock': 580,\n",
              " 'anyone': 581,\n",
              " 'sorry': 582,\n",
              " 'maybe': 583,\n",
              " 'hey': 584,\n",
              " 'child': 585,\n",
              " 'totally': 586,\n",
              " 'toddler': 587,\n",
              " 'saw': 588,\n",
              " 'town': 589,\n",
              " 'fukushima': 590,\n",
              " '50': 591,\n",
              " 'mishaps': 592,\n",
              " 'move': 593,\n",
              " 'blizzard': 594,\n",
              " 'money': 595,\n",
              " 'ladies': 596,\n",
              " 'appears': 597,\n",
              " 'russian': 598,\n",
              " 'giant': 599,\n",
              " 'centre': 600,\n",
              " 'village': 601,\n",
              " '60': 602,\n",
              " 'houses': 603,\n",
              " 'crews': 604,\n",
              " 'caused': 605,\n",
              " 'course': 606,\n",
              " 'severe': 607,\n",
              " 'disea': 608,\n",
              " 'closed': 609,\n",
              " 'heavy': 610,\n",
              " 'second': 611,\n",
              " 'myanmar': 612,\n",
              " 'try': 613,\n",
              " 'arsonist': 614,\n",
              " 'center': 615,\n",
              " 'vehicle': 616,\n",
              " 'guy': 617,\n",
              " 'might': 618,\n",
              " 'eyes': 619,\n",
              " 'shes': 620,\n",
              " 'omg': 621,\n",
              " 'couple': 622,\n",
              " 'vs': 623,\n",
              " 'self': 624,\n",
              " 'fight': 625,\n",
              " 'name': 626,\n",
              " 'b': 627,\n",
              " 'class': 628,\n",
              " 'friend': 629,\n",
              " 'team': 630,\n",
              " 'temple': 631,\n",
              " 'space': 632,\n",
              " 'germs': 633,\n",
              " 'words': 634,\n",
              " '25': 635,\n",
              " 'find': 636,\n",
              " 'drake': 637,\n",
              " 'meek': 638,\n",
              " 'marks': 639,\n",
              " 'downtown': 640,\n",
              " 'memories': 641,\n",
              " 'devastated': 642,\n",
              " 'flash': 643,\n",
              " 'lost': 644,\n",
              " 'cars': 645,\n",
              " 'lord': 646,\n",
              " 'outside': 647,\n",
              " 'hard': 648,\n",
              " 'others': 649,\n",
              " 'front': 650,\n",
              " 'nowplaying': 651,\n",
              " 'mom': 652,\n",
              " 'win': 653,\n",
              " 'daily': 654,\n",
              " 'experts': 655,\n",
              " 'theyre': 656,\n",
              " 'official': 657,\n",
              " 'hate': 658,\n",
              " 'usa': 659,\n",
              " '10': 660,\n",
              " 'united': 661,\n",
              " 'mop': 662,\n",
              " 'beach': 663,\n",
              " 'reports': 664,\n",
              " 'hiring': 665,\n",
              " 'theater': 666,\n",
              " 'gun': 667,\n",
              " 'christian': 668,\n",
              " 'muslims': 669,\n",
              " 'listen': 670,\n",
              " 'star': 671,\n",
              " 'eye': 672,\n",
              " 'taken': 673,\n",
              " 'action': 674,\n",
              " 'nearly': 675,\n",
              " 'mad': 676,\n",
              " 'cake': 677,\n",
              " 'level': 678,\n",
              " 'pay': 679,\n",
              " 'though': 680,\n",
              " 'link': 681,\n",
              " 'morning': 682,\n",
              " 'watching': 683,\n",
              " 'outrage': 684,\n",
              " 'gbbo': 685,\n",
              " 'friends': 686,\n",
              " 'takes': 687,\n",
              " 'former': 688,\n",
              " 'madhya': 689,\n",
              " 'pradesh': 690,\n",
              " 'led': 691,\n",
              " 'gems': 692,\n",
              " 'funtenna': 693,\n",
              " 'reddits': 694,\n",
              " 'subreddits': 695,\n",
              " 'reason': 696,\n",
              " 'across': 697,\n",
              " 'fast': 698,\n",
              " 'side': 699,\n",
              " 'west': 700,\n",
              " 'thousands': 701,\n",
              " 'r': 702,\n",
              " 'climate': 703,\n",
              " 'else': 704,\n",
              " 'huge': 705,\n",
              " 'reported': 706,\n",
              " 'property': 707,\n",
              " 'happened': 708,\n",
              " 'moment': 709,\n",
              " 'book': 710,\n",
              " 'dog': 711,\n",
              " 'seen': 712,\n",
              " 'park': 713,\n",
              " 'major': 714,\n",
              " 'disease': 715,\n",
              " 'hand': 716,\n",
              " 'govt': 717,\n",
              " 'till': 718,\n",
              " 'blue': 719,\n",
              " 'date': 720,\n",
              " 'control': 721,\n",
              " 'caught': 722,\n",
              " 'east': 723,\n",
              " 'green': 724,\n",
              " 'militants': 725,\n",
              " 'damn': 726,\n",
              " 'bombs': 727,\n",
              " 'mount': 728,\n",
              " 'pamela': 729,\n",
              " 'needs': 730,\n",
              " 'playing': 731,\n",
              " 'running': 732,\n",
              " 'tweet': 733,\n",
              " 'low': 734,\n",
              " 'wow': 735,\n",
              " 'fashion': 736,\n",
              " 'pray': 737,\n",
              " 'camp': 738,\n",
              " 'hear': 739,\n",
              " 'chance': 740,\n",
              " 'patience': 741,\n",
              " 'lamp': 742,\n",
              " 'bayelsa': 743,\n",
              " 'parole': 744,\n",
              " 'unconfirmed': 745,\n",
              " 'neighbours': 746,\n",
              " 'chinas': 747,\n",
              " 'colorado': 748,\n",
              " 'haha': 749,\n",
              " 'bring': 750,\n",
              " 'awesome': 751,\n",
              " 'wanted': 752,\n",
              " 'happy': 753,\n",
              " 'america': 754,\n",
              " 'drive': 755,\n",
              " 'france': 756,\n",
              " 'pakistani': 757,\n",
              " 'trust': 758,\n",
              " 'israel': 759,\n",
              " 'potus': 760,\n",
              " 'sign': 761,\n",
              " 'following': 762,\n",
              " 'poor': 763,\n",
              " 'film': 764,\n",
              " 'comes': 765,\n",
              " 'escape': 766,\n",
              " 'gt': 767,\n",
              " 'russia': 768,\n",
              " 'isnt': 769,\n",
              " '100': 770,\n",
              " 'learn': 771,\n",
              " 'arrested': 772,\n",
              " 'true': 773,\n",
              " 'waving': 774,\n",
              " 'geller': 775,\n",
              " 'worst': 776,\n",
              " 'ebola': 777,\n",
              " 'enough': 778,\n",
              " 'dude': 779,\n",
              " 'pain': 780,\n",
              " 'entire': 781,\n",
              " 'info': 782,\n",
              " 'large': 783,\n",
              " 'tote': 784,\n",
              " 'handbag': 785,\n",
              " 'spot': 786,\n",
              " 'libya': 787,\n",
              " '70th': 788,\n",
              " 'holding': 789,\n",
              " 'aug': 790,\n",
              " 'mph': 791,\n",
              " 'ppl': 792,\n",
              " 'confirmed': 793,\n",
              " 'don\\x89ûªt': 794,\n",
              " 'emmerdale': 795,\n",
              " 'york': 796,\n",
              " 'quiz': 797,\n",
              " 'apollo': 798,\n",
              " 'cree': 799,\n",
              " 'islam': 800,\n",
              " 'nigerian': 801,\n",
              " 'aba': 802,\n",
              " 'site': 803,\n",
              " 'ave': 804,\n",
              " 'talk': 805,\n",
              " 'seeing': 806,\n",
              " 'behind': 807,\n",
              " '15': 808,\n",
              " 'wrong': 809,\n",
              " 'suspect': 810,\n",
              " 'twelve': 811,\n",
              " 'crazy': 812,\n",
              " 'kills': 813,\n",
              " 'driver': 814,\n",
              " 'safety': 815,\n",
              " 'working': 816,\n",
              " 'japanese': 817,\n",
              " 'gop': 818,\n",
              " 'feeling': 819,\n",
              " 'driving': 820,\n",
              " 'public': 821,\n",
              " 'pretty': 822,\n",
              " 'ahead': 823,\n",
              " 'online': 824,\n",
              " 'turn': 825,\n",
              " 'follow': 826,\n",
              " 'told': 827,\n",
              " 'aint': 828,\n",
              " 'rock': 829,\n",
              " 'investigating': 830,\n",
              " 'thursday': 831,\n",
              " 'businesses': 832,\n",
              " 'parents': 833,\n",
              " 'become': 834,\n",
              " 'china': 835,\n",
              " 'delivers': 836,\n",
              " 'isis': 837,\n",
              " 'passengers': 838,\n",
              " 'alarm': 839,\n",
              " 'sick': 840,\n",
              " '12000': 841,\n",
              " 'crematoria': 842,\n",
              " 'provoke': 843,\n",
              " 'offroad': 844,\n",
              " 'jonathan': 845,\n",
              " 'governor': 846,\n",
              " 'sky': 847,\n",
              " 'secret': 848,\n",
              " '2013': 849,\n",
              " 'double': 850,\n",
              " 'scene': 851,\n",
              " 'global': 852,\n",
              " 'gtgt': 853,\n",
              " 'thinking': 854,\n",
              " '11': 855,\n",
              " 'ready': 856,\n",
              " 'wild': 857,\n",
              " 'horse': 858,\n",
              " 'radio': 859,\n",
              " 'mod': 860,\n",
              " 'scared': 861,\n",
              " 'give': 862,\n",
              " 'department': 863,\n",
              " 'earth': 864,\n",
              " 'ca': 865,\n",
              " 'lmao': 866,\n",
              " 'okay': 867,\n",
              " 'shift': 868,\n",
              " 'looking': 869,\n",
              " 'niggas': 870,\n",
              " 'living': 871,\n",
              " 'party': 872,\n",
              " 'falling': 873,\n",
              " 'arent': 874,\n",
              " 'broke': 875,\n",
              " 'faux': 876,\n",
              " 'middle': 877,\n",
              " 'coast': 878,\n",
              " 'likely': 879,\n",
              " 'western': 880,\n",
              " 'sad': 881,\n",
              " 'instead': 882,\n",
              " 'fans': 883,\n",
              " 'sea': 884,\n",
              " 'enugu': 885,\n",
              " 'spring': 886,\n",
              " 'wonder': 887,\n",
              " 'wrought': 888,\n",
              " 'internally': 889,\n",
              " 'brooklyn': 890,\n",
              " 'travel': 891,\n",
              " 'smoke': 892,\n",
              " 'happening': 893,\n",
              " 'london': 894,\n",
              " 'metal': 895,\n",
              " 'taking': 896,\n",
              " 'alone': 897,\n",
              " 'upon': 898,\n",
              " 'involving': 899,\n",
              " 'dies': 900,\n",
              " 'turned': 901,\n",
              " '16': 902,\n",
              " 'financial': 903,\n",
              " 'tried': 904,\n",
              " 'wednesday': 905,\n",
              " 'mode': 906,\n",
              " 'serious': 907,\n",
              " 'reuters': 908,\n",
              " 'pakistan': 909,\n",
              " 'country': 910,\n",
              " 'wasnt': 911,\n",
              " 'total': 912,\n",
              " 'dad': 913,\n",
              " 'bed': 914,\n",
              " 'prepare': 915,\n",
              " 'vote': 916,\n",
              " 'linked': 917,\n",
              " 'million': 918,\n",
              " 'gave': 919,\n",
              " 'internet': 920,\n",
              " 'response': 921,\n",
              " 'louis': 922,\n",
              " 'album': 923,\n",
              " 'added': 924,\n",
              " 'occurred': 925,\n",
              " 'australia': 926,\n",
              " 'miss': 927,\n",
              " 'research': 928,\n",
              " 'cut': 929,\n",
              " 'problem': 930,\n",
              " 'future': 931,\n",
              " 'firefighters': 932,\n",
              " 'e': 933,\n",
              " 'silver': 934,\n",
              " 'cold': 935,\n",
              " 'giving': 936,\n",
              " 'walking': 937,\n",
              " 'soul': 938,\n",
              " 'metro': 939,\n",
              " 'biggest': 940,\n",
              " 'standard': 941,\n",
              " 'strike': 942,\n",
              " 'purse': 943,\n",
              " 'saying': 944,\n",
              " 'point': 945,\n",
              " 'small': 946,\n",
              " 'washington': 947,\n",
              " 'gunman': 948,\n",
              " 'ground': 949,\n",
              " 'nagasaki': 950,\n",
              " 'worse': 951,\n",
              " 'different': 952,\n",
              " 'x': 953,\n",
              " 'press': 954,\n",
              " 'planned': 955,\n",
              " 'sounds': 956,\n",
              " 'account': 957,\n",
              " 'british': 958,\n",
              " 'gas': 959,\n",
              " 'absolutely': 960,\n",
              " 'worlds': 961,\n",
              " 'guide': 962,\n",
              " 'uk': 963,\n",
              " 'flight': 964,\n",
              " 'interesting': 965,\n",
              " 'international': 966,\n",
              " 'smaug': 967,\n",
              " 'sensorsenso': 968,\n",
              " 'struggles': 969,\n",
              " 'apc': 970,\n",
              " 'specially': 971,\n",
              " 'allows': 972,\n",
              " '1980': 973,\n",
              " 'alabama': 974,\n",
              " 'cameroon': 975,\n",
              " 'orders': 976,\n",
              " 'causes': 977,\n",
              " 'season': 978,\n",
              " 'wife': 979,\n",
              " 'setting': 980,\n",
              " 'later': 981,\n",
              " 'means': 982,\n",
              " 'students': 983,\n",
              " 'blocked': 984,\n",
              " 'risk': 985,\n",
              " 'using': 986,\n",
              " 'guess': 987,\n",
              " 'wants': 988,\n",
              " 'begin': 989,\n",
              " 'members': 990,\n",
              " 'victim': 991,\n",
              " 'ship': 992,\n",
              " 'petition': 993,\n",
              " '17': 994,\n",
              " 'feat': 995,\n",
              " 'survivors': 996,\n",
              " 'syrian': 997,\n",
              " 'salt': 998,\n",
              " 'kinda': 999,\n",
              " 'played': 1000,\n",
              " ...}"
            ]
          },
          "metadata": {},
          "execution_count": 21
        }
      ]
    },
    {
      "cell_type": "code",
      "source": [
        "train_sequences = tokenizer.texts_to_sequences(train_sentences)\n",
        "val_sequences = tokenizer.texts_to_sequences(val_sentences)"
      ],
      "metadata": {
        "id": "X9Z6nbcycrGI"
      },
      "execution_count": 22,
      "outputs": []
    },
    {
      "cell_type": "code",
      "source": [
        "print(train_sentences[10:15])\n",
        "print(train_sequences[10:15])"
      ],
      "metadata": {
        "colab": {
          "base_uri": "https://localhost:8080/"
        },
        "id": "rR0x5QcjdB2U",
        "outputId": "ea665029-f48f-4aaa-dcb3-7fb4ea885215"
      },
      "execution_count": 23,
      "outputs": [
        {
          "output_type": "stream",
          "name": "stdout",
          "text": [
            "['three people died heat wave far'\n",
            " 'haha south tampa getting flooded hah wait second live south tampa gonna gonna fvck flooding'\n",
            " 'raining flooding florida tampabay tampa 18 19 days ive lost count'\n",
            " 'flood bago myanmar arrived bago'\n",
            " 'damage school bus 80 multi car crash breaking']\n",
            "[[520, 8, 395, 156, 297, 411], [749, 470, 2248, 138, 2249, 2813, 521, 611, 188, 470, 2248, 189, 189, 5679, 117], [2814, 117, 1884, 5680, 2248, 1285, 1450, 522, 256, 644, 2815], [99, 3742, 612, 1451, 3742], [111, 91, 336, 3743, 3744, 52, 22, 312]]\n"
          ]
        }
      ]
    },
    {
      "cell_type": "code",
      "source": [
        " #pad the sequences to have the same lenght\n",
        "from tensorflow.keras.preprocessing.sequence import pad_sequences\n",
        "\n",
        "#max number of words in a sqeunce\n",
        "max_length=20\n",
        " \n",
        "train_padded= pad_sequences(train_sequences , maxlen=max_lenght , padding=\"post\",truncating=\"post\")\n",
        "val_padded= pad_sequences(val_sequences, maxlen=max_lenght, padding=\"post\" , truncating=\"post\")\n",
        "train_padded.shape , val_padded.shape"
      ],
      "metadata": {
        "colab": {
          "base_uri": "https://localhost:8080/"
        },
        "id": "RyjDvrGjk2rm",
        "outputId": "3cf4d617-2d39-4e4a-e2bf-2c0186ff85ed"
      },
      "execution_count": 40,
      "outputs": [
        {
          "output_type": "execute_result",
          "data": {
            "text/plain": [
              "((6090, 20), (1523, 20))"
            ]
          },
          "metadata": {},
          "execution_count": 40
        }
      ]
    },
    {
      "cell_type": "code",
      "source": [
        "train_padded[10]"
      ],
      "metadata": {
        "colab": {
          "base_uri": "https://localhost:8080/"
        },
        "id": "VlsR8HHZqMdC",
        "outputId": "ccc046e6-e935-4436-c492-c9dca9955f41"
      },
      "execution_count": 25,
      "outputs": [
        {
          "output_type": "execute_result",
          "data": {
            "text/plain": [
              "array([520,   8, 395, 156, 297, 411,   0,   0,   0,   0,   0,   0,   0,\n",
              "         0,   0,   0,   0,   0,   0,   0], dtype=int32)"
            ]
          },
          "metadata": {},
          "execution_count": 25
        }
      ]
    },
    {
      "cell_type": "code",
      "source": [
        "print(train_sentences[10])\n",
        "print(train_sequences[10])\n",
        "print(train_padded[10])"
      ],
      "metadata": {
        "colab": {
          "base_uri": "https://localhost:8080/"
        },
        "id": "ZRrsYMAEqP3-",
        "outputId": "37873428-587c-46f7-a669-921321de9c0c"
      },
      "execution_count": 26,
      "outputs": [
        {
          "output_type": "stream",
          "name": "stdout",
          "text": [
            "three people died heat wave far\n",
            "[520, 8, 395, 156, 297, 411]\n",
            "[520   8 395 156 297 411   0   0   0   0   0   0   0   0   0   0   0   0\n",
            "   0   0]\n"
          ]
        }
      ]
    },
    {
      "cell_type": "code",
      "source": [
        "# check reversing the indices\n",
        "#flip (key,value)\n",
        "reverse_word_index= dict([(idx , word) for  (word,idx) in word_index.items()])"
      ],
      "metadata": {
        "id": "6ZsSres7qgOd"
      },
      "execution_count": 27,
      "outputs": []
    },
    {
      "cell_type": "code",
      "source": [
        "def decode(sequence):\n",
        "  return \" \".join([reverse_word_index.get(idx , \"?\") for idx in sequence])"
      ],
      "metadata": {
        "id": "IgqCuAJvq6lx"
      },
      "execution_count": 28,
      "outputs": []
    },
    {
      "cell_type": "code",
      "source": [
        "decoded_text = decode(train_sequences[10])\n",
        "print(train_sequences[10])\n",
        "print(decoded_text)"
      ],
      "metadata": {
        "colab": {
          "base_uri": "https://localhost:8080/"
        },
        "id": "CDNxrA6LrHmP",
        "outputId": "c3e25569-33f0-4e42-bc6e-6cbc30c721ef"
      },
      "execution_count": 29,
      "outputs": [
        {
          "output_type": "stream",
          "name": "stdout",
          "text": [
            "[520, 8, 395, 156, 297, 411]\n",
            "three people died heat wave far\n"
          ]
        }
      ]
    },
    {
      "cell_type": "code",
      "source": [
        "# create LSTM Model\n",
        "from tensorflow.keras import layers\n",
        "\n",
        "#embeddings: tensorflow/tutorials/text/word_embeddings\n",
        "#turns positive integers(indexes) into dense vectors of fixed size\n",
        "\n",
        "model = keras.models.Sequential()\n",
        "model.add(layers.Embedding(num_unique_words, 32 , input_length=max_length))\n",
        "\n",
        "#The layer will take as input as integer matrix of size (batch , input_lenght)\n",
        "#and the largest integer (i.e. word index) in the input should be no larger than num_words(vocabulary size)\n",
        "# Now model.output_shape is (None, input_lenght, 32), where 'None' is the batch dimension.\n",
        "\n",
        "model.add(layers.LSTM(64, dropout=0.1))\n",
        "model.add(layers.Dense(1, activation=\"sigmoid\"))\n",
        "\n",
        "model.summary()"
      ],
      "metadata": {
        "colab": {
          "base_uri": "https://localhost:8080/"
        },
        "id": "QQGhs53Vy4H6",
        "outputId": "0a26cb7a-0144-44f6-e2bc-cc5ad10cc6b0"
      },
      "execution_count": 43,
      "outputs": [
        {
          "output_type": "stream",
          "name": "stdout",
          "text": [
            "Model: \"sequential_9\"\n",
            "_________________________________________________________________\n",
            " Layer (type)                Output Shape              Param #   \n",
            "=================================================================\n",
            " embedding_3 (Embedding)     (None, 20, 32)            575072    \n",
            "                                                                 \n",
            " lstm_1 (LSTM)               (None, 64)                24832     \n",
            "                                                                 \n",
            " dense (Dense)               (None, 1)                 65        \n",
            "                                                                 \n",
            "=================================================================\n",
            "Total params: 599,969\n",
            "Trainable params: 599,969\n",
            "Non-trainable params: 0\n",
            "_________________________________________________________________\n"
          ]
        }
      ]
    },
    {
      "cell_type": "code",
      "source": [
        "loss = keras.losses.BinaryCrossentropy(from_logits=False)\n",
        "optim= keras.optimizers.Adam(lr=0.001)\n",
        "metrics= [\"accuracy\"]\n",
        "\n",
        "model.compile(loss=loss, optimizer=optim, metrics=metrics)"
      ],
      "metadata": {
        "colab": {
          "base_uri": "https://localhost:8080/"
        },
        "id": "lYWKiyZK2XHS",
        "outputId": "8a88135f-ecf3-479e-fcd8-4cf21f8357ae"
      },
      "execution_count": 45,
      "outputs": [
        {
          "output_type": "stream",
          "name": "stderr",
          "text": [
            "WARNING:absl:`lr` is deprecated, please use `learning_rate` instead, or use the legacy optimizer, e.g.,tf.keras.optimizers.legacy.Adam.\n"
          ]
        }
      ]
    },
    {
      "cell_type": "code",
      "source": [
        "model.fit(train_padded, train_labels, epochs=20, validation_data=(val_padded, val_labels), verbose=2)\n",
        "#training kısmını burada yaptık doğruluk %71"
      ],
      "metadata": {
        "colab": {
          "base_uri": "https://localhost:8080/"
        },
        "id": "zDbP7mdd2y20",
        "outputId": "857aff15-6076-471d-8843-8466f9ee710c"
      },
      "execution_count": 46,
      "outputs": [
        {
          "output_type": "stream",
          "name": "stdout",
          "text": [
            "Epoch 1/20\n",
            "191/191 - 5s - loss: 0.5502 - accuracy: 0.7149 - val_loss: 0.4647 - val_accuracy: 0.7748 - 5s/epoch - 28ms/step\n",
            "Epoch 2/20\n",
            "191/191 - 3s - loss: 0.2930 - accuracy: 0.8842 - val_loss: 0.5094 - val_accuracy: 0.7617 - 3s/epoch - 14ms/step\n",
            "Epoch 3/20\n",
            "191/191 - 3s - loss: 0.1519 - accuracy: 0.9501 - val_loss: 0.6151 - val_accuracy: 0.7603 - 3s/epoch - 15ms/step\n",
            "Epoch 4/20\n",
            "191/191 - 3s - loss: 0.1089 - accuracy: 0.9667 - val_loss: 0.5673 - val_accuracy: 0.7551 - 3s/epoch - 15ms/step\n",
            "Epoch 5/20\n",
            "191/191 - 3s - loss: 0.0888 - accuracy: 0.9719 - val_loss: 0.6753 - val_accuracy: 0.7452 - 3s/epoch - 14ms/step\n",
            "Epoch 6/20\n",
            "191/191 - 3s - loss: 0.0748 - accuracy: 0.9767 - val_loss: 0.8229 - val_accuracy: 0.7518 - 3s/epoch - 14ms/step\n",
            "Epoch 7/20\n",
            "191/191 - 3s - loss: 0.0621 - accuracy: 0.9787 - val_loss: 0.8470 - val_accuracy: 0.7452 - 3s/epoch - 15ms/step\n",
            "Epoch 8/20\n",
            "191/191 - 3s - loss: 0.0494 - accuracy: 0.9795 - val_loss: 1.0396 - val_accuracy: 0.7387 - 3s/epoch - 16ms/step\n",
            "Epoch 9/20\n",
            "191/191 - 3s - loss: 0.0442 - accuracy: 0.9824 - val_loss: 1.4445 - val_accuracy: 0.7393 - 3s/epoch - 15ms/step\n",
            "Epoch 10/20\n",
            "191/191 - 3s - loss: 0.0360 - accuracy: 0.9844 - val_loss: 1.1910 - val_accuracy: 0.7341 - 3s/epoch - 15ms/step\n",
            "Epoch 11/20\n",
            "191/191 - 3s - loss: 0.0401 - accuracy: 0.9829 - val_loss: 1.2598 - val_accuracy: 0.7249 - 3s/epoch - 15ms/step\n",
            "Epoch 12/20\n",
            "191/191 - 3s - loss: 0.0348 - accuracy: 0.9833 - val_loss: 1.6805 - val_accuracy: 0.7308 - 3s/epoch - 17ms/step\n",
            "Epoch 13/20\n",
            "191/191 - 3s - loss: 0.0337 - accuracy: 0.9836 - val_loss: 1.2998 - val_accuracy: 0.7341 - 3s/epoch - 14ms/step\n",
            "Epoch 14/20\n",
            "191/191 - 3s - loss: 0.0326 - accuracy: 0.9831 - val_loss: 1.6144 - val_accuracy: 0.7341 - 3s/epoch - 14ms/step\n",
            "Epoch 15/20\n",
            "191/191 - 3s - loss: 0.0354 - accuracy: 0.9841 - val_loss: 1.5466 - val_accuracy: 0.7334 - 3s/epoch - 14ms/step\n",
            "Epoch 16/20\n",
            "191/191 - 3s - loss: 0.0391 - accuracy: 0.9829 - val_loss: 0.9555 - val_accuracy: 0.7301 - 3s/epoch - 17ms/step\n",
            "Epoch 17/20\n",
            "191/191 - 3s - loss: 0.0390 - accuracy: 0.9819 - val_loss: 1.7343 - val_accuracy: 0.7209 - 3s/epoch - 14ms/step\n",
            "Epoch 18/20\n",
            "191/191 - 3s - loss: 0.0364 - accuracy: 0.9814 - val_loss: 1.3259 - val_accuracy: 0.7255 - 3s/epoch - 18ms/step\n",
            "Epoch 19/20\n",
            "191/191 - 3s - loss: 0.0331 - accuracy: 0.9828 - val_loss: 1.7072 - val_accuracy: 0.7269 - 3s/epoch - 17ms/step\n",
            "Epoch 20/20\n",
            "191/191 - 3s - loss: 0.0304 - accuracy: 0.9834 - val_loss: 1.6773 - val_accuracy: 0.7170 - 3s/epoch - 16ms/step\n"
          ]
        },
        {
          "output_type": "execute_result",
          "data": {
            "text/plain": [
              "<keras.callbacks.History at 0x7fe2e44b1bb0>"
            ]
          },
          "metadata": {},
          "execution_count": 46
        }
      ]
    },
    {
      "cell_type": "code",
      "source": [
        "predictions = model.predict(train_padded)\n",
        "predictions = [1 if p > 0.5 else 0 for p in predictions]"
      ],
      "metadata": {
        "colab": {
          "base_uri": "https://localhost:8080/"
        },
        "id": "_W3gTmrO3W6c",
        "outputId": "6f85093a-9b2c-4692-e9ec-06a5d20d7b75"
      },
      "execution_count": 47,
      "outputs": [
        {
          "output_type": "stream",
          "name": "stdout",
          "text": [
            "191/191 [==============================] - 1s 3ms/step\n"
          ]
        }
      ]
    },
    {
      "cell_type": "code",
      "source": [
        "print(train_sentences[10:20])\n",
        "\n",
        "print(train_labels[10:20])\n",
        "print(predictions[10:20])"
      ],
      "metadata": {
        "colab": {
          "base_uri": "https://localhost:8080/"
        },
        "id": "1BcaoYS_3vAC",
        "outputId": "8c26b367-a7c2-4428-8f04-2e952730d585"
      },
      "execution_count": 48,
      "outputs": [
        {
          "output_type": "stream",
          "name": "stdout",
          "text": [
            "['three people died heat wave far'\n",
            " 'haha south tampa getting flooded hah wait second live south tampa gonna gonna fvck flooding'\n",
            " 'raining flooding florida tampabay tampa 18 19 days ive lost count'\n",
            " 'flood bago myanmar arrived bago'\n",
            " 'damage school bus 80 multi car crash breaking' 'whats man' 'love fruits'\n",
            " 'summer lovely' 'car fast' 'goooooooaaaaaal']\n",
            "[1 1 1 1 1 0 0 0 0 0]\n",
            "[1, 1, 1, 1, 1, 0, 0, 0, 0, 0]\n"
          ]
        }
      ]
    },
    {
      "cell_type": "code",
      "source": [
        "print(train_sentences[1:11])\n",
        "\n",
        "print(train_labels[1:11])\n",
        "print(predictions[1:11])"
      ],
      "metadata": {
        "colab": {
          "base_uri": "https://localhost:8080/"
        },
        "id": "Eu_Y-vwE39yB",
        "outputId": "cd3fc86e-48a1-4e75-fb87-1c5c11bacc95"
      },
      "execution_count": 50,
      "outputs": [
        {
          "output_type": "stream",
          "name": "stdout",
          "text": [
            "['forest fire near la ronge sask canada'\n",
            " 'residents asked shelter place notified officers evacuation shelter place orders expected'\n",
            " '13000 people receive wildfires evacuation orders california'\n",
            " 'got sent photo ruby alaska smoke wildfires pours school'\n",
            " 'rockyfire update california hwy 20 closed directions due lake county fire cafire wildfires'\n",
            " 'flood disaster heavy rain causes flash flooding streets manitou colorado springs areas'\n",
            " 'im top hill see fire woods'\n",
            " 'theres emergency evacuation happening building across street'\n",
            " 'im afraid tornado coming area' 'three people died heat wave far']\n",
            "[1 1 1 1 1 1 1 1 1 1]\n",
            "[1, 1, 1, 1, 1, 1, 1, 1, 1, 1]\n"
          ]
        }
      ]
    }
  ],
  "metadata": {
    "colab": {
      "provenance": [],
      "include_colab_link": true
    },
    "kernelspec": {
      "display_name": "Python 3",
      "name": "python3"
    }
  },
  "nbformat": 4,
  "nbformat_minor": 0
}