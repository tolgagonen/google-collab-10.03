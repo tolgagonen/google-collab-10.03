{
  "nbformat": 4,
  "nbformat_minor": 0,
  "metadata": {
    "colab": {
      "provenance": [],
      "authorship_tag": "ABX9TyOu8HMzobyklhFr2eVKPZf5",
      "include_colab_link": true
    },
    "kernelspec": {
      "name": "python3",
      "display_name": "Python 3"
    },
    "language_info": {
      "name": "python"
    }
  },
  "cells": [
    {
      "cell_type": "markdown",
      "metadata": {
        "id": "view-in-github",
        "colab_type": "text"
      },
      "source": [
        "<a href=\"https://colab.research.google.com/github/tolgagonen/google-collab-10.03/blob/main/pozitif_negatif_twitter_tensorflow.ipynb\" target=\"_parent\"><img src=\"https://colab.research.google.com/assets/colab-badge.svg\" alt=\"Open In Colab\"/></a>"
      ]
    },
    {
      "cell_type": "code",
      "execution_count": 1,
      "metadata": {
        "colab": {
          "base_uri": "https://localhost:8080/"
        },
        "id": "0WZZ8EOVBC_B",
        "outputId": "0f0b59f1-5147-419e-dded-d66223d24e18"
      },
      "outputs": [
        {
          "output_type": "stream",
          "name": "stdout",
          "text": [
            "Looking in indexes: https://pypi.org/simple, https://us-python.pkg.dev/colab-wheels/public/simple/\n",
            "Requirement already satisfied: nltk in /usr/local/lib/python3.9/dist-packages (3.7)\n",
            "Requirement already satisfied: joblib in /usr/local/lib/python3.9/dist-packages (from nltk) (1.2.0)\n",
            "Requirement already satisfied: click in /usr/local/lib/python3.9/dist-packages (from nltk) (8.1.3)\n",
            "Requirement already satisfied: tqdm in /usr/local/lib/python3.9/dist-packages (from nltk) (4.65.0)\n",
            "Requirement already satisfied: regex>=2021.8.3 in /usr/local/lib/python3.9/dist-packages (from nltk) (2022.6.2)\n"
          ]
        }
      ],
      "source": [
        "pip install nltk"
      ]
    },
    {
      "cell_type": "code",
      "source": [
        "import tensorflow as tf\n",
        "from tensorflow import keras\n",
        "import pandas as pd\n",
        "import numpy as np\n",
        "import os\n",
        "import matplotlib.pyplot as plt\n",
        "import time"
      ],
      "metadata": {
        "id": "0rnKu127Ba55"
      },
      "execution_count": 2,
      "outputs": []
    },
    {
      "cell_type": "code",
      "source": [
        "df = pd.read_csv(\"newcsv.csv\",encoding='latin1')\n",
        "#utf-8 codec can t decode hatası çözümü için latin1 kullandım , bunla birlikte \n",
        "#türkçede ki özel karakterleri okuyabiliyor"
      ],
      "metadata": {
        "id": "PhTlQV8nBbqb"
      },
      "execution_count": 15,
      "outputs": []
    },
    {
      "cell_type": "code",
      "source": [
        "df.shape"
      ],
      "metadata": {
        "colab": {
          "base_uri": "https://localhost:8080/"
        },
        "id": "PBwfSWTACTqX",
        "outputId": "77a8bc78-6d80-4d80-c6a3-4daa1b1a789f"
      },
      "execution_count": 16,
      "outputs": [
        {
          "output_type": "execute_result",
          "data": {
            "text/plain": [
              "(11119, 2)"
            ]
          },
          "metadata": {},
          "execution_count": 16
        }
      ]
    },
    {
      "cell_type": "code",
      "source": [
        "df.head()"
      ],
      "metadata": {
        "colab": {
          "base_uri": "https://localhost:8080/",
          "height": 206
        },
        "id": "k_7_cqJ4CVWQ",
        "outputId": "2351c36d-03d7-4c20-b9d9-9dd166d59457"
      },
      "execution_count": 17,
      "outputs": [
        {
          "output_type": "execute_result",
          "data": {
            "text/plain": [
              "      type                                          text\n",
              "0  Negatif                doða aðzýmýza sýçsa hakký var \n",
              "1  Pozitif   anne bir sanatçýdýr güzel eseri yavrusudur \n",
              "2  Negatif   ibrahimin oðlunu koruyan tanrý ben sokayým \n",
              "3  Negatif  köpeðim suratýna sýçsýn senin namussuz karý \n",
              "4  Negatif           ben söðüþledim birazda sen söðüþle "
            ],
            "text/html": [
              "\n",
              "  <div id=\"df-adefd938-d057-4e4f-9c54-838f2114e5f7\">\n",
              "    <div class=\"colab-df-container\">\n",
              "      <div>\n",
              "<style scoped>\n",
              "    .dataframe tbody tr th:only-of-type {\n",
              "        vertical-align: middle;\n",
              "    }\n",
              "\n",
              "    .dataframe tbody tr th {\n",
              "        vertical-align: top;\n",
              "    }\n",
              "\n",
              "    .dataframe thead th {\n",
              "        text-align: right;\n",
              "    }\n",
              "</style>\n",
              "<table border=\"1\" class=\"dataframe\">\n",
              "  <thead>\n",
              "    <tr style=\"text-align: right;\">\n",
              "      <th></th>\n",
              "      <th>type</th>\n",
              "      <th>text</th>\n",
              "    </tr>\n",
              "  </thead>\n",
              "  <tbody>\n",
              "    <tr>\n",
              "      <th>0</th>\n",
              "      <td>Negatif</td>\n",
              "      <td>doða aðzýmýza sýçsa hakký var</td>\n",
              "    </tr>\n",
              "    <tr>\n",
              "      <th>1</th>\n",
              "      <td>Pozitif</td>\n",
              "      <td>anne bir sanatçýdýr güzel eseri yavrusudur</td>\n",
              "    </tr>\n",
              "    <tr>\n",
              "      <th>2</th>\n",
              "      <td>Negatif</td>\n",
              "      <td>ibrahimin oðlunu koruyan tanrý ben sokayým</td>\n",
              "    </tr>\n",
              "    <tr>\n",
              "      <th>3</th>\n",
              "      <td>Negatif</td>\n",
              "      <td>köpeðim suratýna sýçsýn senin namussuz karý</td>\n",
              "    </tr>\n",
              "    <tr>\n",
              "      <th>4</th>\n",
              "      <td>Negatif</td>\n",
              "      <td>ben söðüþledim birazda sen söðüþle</td>\n",
              "    </tr>\n",
              "  </tbody>\n",
              "</table>\n",
              "</div>\n",
              "      <button class=\"colab-df-convert\" onclick=\"convertToInteractive('df-adefd938-d057-4e4f-9c54-838f2114e5f7')\"\n",
              "              title=\"Convert this dataframe to an interactive table.\"\n",
              "              style=\"display:none;\">\n",
              "        \n",
              "  <svg xmlns=\"http://www.w3.org/2000/svg\" height=\"24px\"viewBox=\"0 0 24 24\"\n",
              "       width=\"24px\">\n",
              "    <path d=\"M0 0h24v24H0V0z\" fill=\"none\"/>\n",
              "    <path d=\"M18.56 5.44l.94 2.06.94-2.06 2.06-.94-2.06-.94-.94-2.06-.94 2.06-2.06.94zm-11 1L8.5 8.5l.94-2.06 2.06-.94-2.06-.94L8.5 2.5l-.94 2.06-2.06.94zm10 10l.94 2.06.94-2.06 2.06-.94-2.06-.94-.94-2.06-.94 2.06-2.06.94z\"/><path d=\"M17.41 7.96l-1.37-1.37c-.4-.4-.92-.59-1.43-.59-.52 0-1.04.2-1.43.59L10.3 9.45l-7.72 7.72c-.78.78-.78 2.05 0 2.83L4 21.41c.39.39.9.59 1.41.59.51 0 1.02-.2 1.41-.59l7.78-7.78 2.81-2.81c.8-.78.8-2.07 0-2.86zM5.41 20L4 18.59l7.72-7.72 1.47 1.35L5.41 20z\"/>\n",
              "  </svg>\n",
              "      </button>\n",
              "      \n",
              "  <style>\n",
              "    .colab-df-container {\n",
              "      display:flex;\n",
              "      flex-wrap:wrap;\n",
              "      gap: 12px;\n",
              "    }\n",
              "\n",
              "    .colab-df-convert {\n",
              "      background-color: #E8F0FE;\n",
              "      border: none;\n",
              "      border-radius: 50%;\n",
              "      cursor: pointer;\n",
              "      display: none;\n",
              "      fill: #1967D2;\n",
              "      height: 32px;\n",
              "      padding: 0 0 0 0;\n",
              "      width: 32px;\n",
              "    }\n",
              "\n",
              "    .colab-df-convert:hover {\n",
              "      background-color: #E2EBFA;\n",
              "      box-shadow: 0px 1px 2px rgba(60, 64, 67, 0.3), 0px 1px 3px 1px rgba(60, 64, 67, 0.15);\n",
              "      fill: #174EA6;\n",
              "    }\n",
              "\n",
              "    [theme=dark] .colab-df-convert {\n",
              "      background-color: #3B4455;\n",
              "      fill: #D2E3FC;\n",
              "    }\n",
              "\n",
              "    [theme=dark] .colab-df-convert:hover {\n",
              "      background-color: #434B5C;\n",
              "      box-shadow: 0px 1px 3px 1px rgba(0, 0, 0, 0.15);\n",
              "      filter: drop-shadow(0px 1px 2px rgba(0, 0, 0, 0.3));\n",
              "      fill: #FFFFFF;\n",
              "    }\n",
              "  </style>\n",
              "\n",
              "      <script>\n",
              "        const buttonEl =\n",
              "          document.querySelector('#df-adefd938-d057-4e4f-9c54-838f2114e5f7 button.colab-df-convert');\n",
              "        buttonEl.style.display =\n",
              "          google.colab.kernel.accessAllowed ? 'block' : 'none';\n",
              "\n",
              "        async function convertToInteractive(key) {\n",
              "          const element = document.querySelector('#df-adefd938-d057-4e4f-9c54-838f2114e5f7');\n",
              "          const dataTable =\n",
              "            await google.colab.kernel.invokeFunction('convertToInteractive',\n",
              "                                                     [key], {});\n",
              "          if (!dataTable) return;\n",
              "\n",
              "          const docLinkHtml = 'Like what you see? Visit the ' +\n",
              "            '<a target=\"_blank\" href=https://colab.research.google.com/notebooks/data_table.ipynb>data table notebook</a>'\n",
              "            + ' to learn more about interactive tables.';\n",
              "          element.innerHTML = '';\n",
              "          dataTable['output_type'] = 'display_data';\n",
              "          await google.colab.output.renderOutput(dataTable, element);\n",
              "          const docLink = document.createElement('div');\n",
              "          docLink.innerHTML = docLinkHtml;\n",
              "          element.appendChild(docLink);\n",
              "        }\n",
              "      </script>\n",
              "    </div>\n",
              "  </div>\n",
              "  "
            ]
          },
          "metadata": {},
          "execution_count": 17
        }
      ]
    },
    {
      "cell_type": "code",
      "source": [
        "print((df.type == \"Negatif\").sum()) # negatif cümle sayısı\n",
        "print((df.type == \"Pozitif\").sum()) # pozitif cümle sayısı"
      ],
      "metadata": {
        "colab": {
          "base_uri": "https://localhost:8080/"
        },
        "id": "bSD7bYaYCYLK",
        "outputId": "763f6be5-bfd2-4481-a4ad-ca6b3dd27639"
      },
      "execution_count": 18,
      "outputs": [
        {
          "output_type": "stream",
          "name": "stdout",
          "text": [
            "5004\n",
            "6115\n"
          ]
        }
      ]
    },
    {
      "cell_type": "code",
      "source": [
        "# Tekrar işleme , burada remove_ULR de linkleri yok ediyoruz\n",
        "#altındaki punct kısmında ise noktaları\n",
        "import re\n",
        "import string\n",
        "\n",
        "def remove_URL(text):\n",
        "    url =re.compile(r\"https?://\\S+|www\\.\\S+\")\n",
        "    return url.sub(r\"\", str(text))\n",
        "\n",
        "def remove_punct(text):\n",
        "    translator = str.maketrans(\"\",\"\", string.punctuation)\n",
        "    return text.translate(translator)\n",
        "\n",
        "string.punctuation"
      ],
      "metadata": {
        "colab": {
          "base_uri": "https://localhost:8080/",
          "height": 36
        },
        "id": "8vynTf7WDDKz",
        "outputId": "f348d609-8b2e-41b8-8a71-71476540af0d"
      },
      "execution_count": 23,
      "outputs": [
        {
          "output_type": "execute_result",
          "data": {
            "text/plain": [
              "'!\"#$%&\\'()*+,-./:;<=>?@[\\\\]^_`{|}~'"
            ],
            "application/vnd.google.colaboratory.intrinsic+json": {
              "type": "string"
            }
          },
          "metadata": {},
          "execution_count": 23
        }
      ]
    },
    {
      "cell_type": "code",
      "source": [
        "df[\"text\"] = df.text.map(remove_URL)\n",
        "df[\"text\"] = df.text.map(remove_punct)"
      ],
      "metadata": {
        "id": "mz7wm9ryEfRq"
      },
      "execution_count": 24,
      "outputs": []
    },
    {
      "cell_type": "code",
      "source": [
        "#Twitter gibi uygulamalarda genellikle noktalama işaretlerine çok dikkat edilmez\n",
        "#Bu yüzden cümlelerin sonunda stopwords dediğimiz cümleleri bitirme kelimeleri bulunur\n",
        "#Bunlardan burada kurtulmak için hazırlanıyoruz.\n",
        "import nltk\n",
        "nltk.download('stopwords')\n",
        "from nltk.corpus import stopwords\n",
        "#stop words A stop words is a commonly used word (such as \"the\" , \"a\")\n",
        "\n",
        "stop= set(stopwords.words(\"english\"))\n",
        "stop2= set(stopwords.words(\"turkish\"))\n",
        "\n",
        "def remove_stopwords(text):\n",
        "  filtered_words = [word.lower() for word in text.split() if word.lower() not in stop2]\n",
        "  return \" \".join(filtered_words)"
      ],
      "metadata": {
        "colab": {
          "base_uri": "https://localhost:8080/"
        },
        "id": "_WjQl19AGubQ",
        "outputId": "8770eb86-80ca-493c-a04b-a1cf767d9440"
      },
      "execution_count": 25,
      "outputs": [
        {
          "output_type": "stream",
          "name": "stderr",
          "text": [
            "[nltk_data] Downloading package stopwords to /root/nltk_data...\n",
            "[nltk_data]   Unzipping corpora/stopwords.zip.\n"
          ]
        }
      ]
    },
    {
      "cell_type": "code",
      "source": [
        "df[\"text\"] = df.text.map(remove_stopwords)"
      ],
      "metadata": {
        "id": "jKLdDlQKHAdJ"
      },
      "execution_count": 26,
      "outputs": []
    },
    {
      "cell_type": "code",
      "source": [
        "df.text"
      ],
      "metadata": {
        "colab": {
          "base_uri": "https://localhost:8080/"
        },
        "id": "ccCVUPfuHCEJ",
        "outputId": "81154fff-58fa-430e-80bd-63e681fdf5e4"
      },
      "execution_count": 27,
      "outputs": [
        {
          "output_type": "execute_result",
          "data": {
            "text/plain": [
              "0                      doða aðzýmýza sýçsa hakký var\n",
              "1         anne bir sanatçýdýr güzel eseri yavrusudur\n",
              "2         ibrahimin oðlunu koruyan tanrý ben sokayým\n",
              "3        köpeðim suratýna sýçsýn senin namussuz karý\n",
              "4                 ben söðüþledim birazda sen söðüþle\n",
              "                            ...                     \n",
              "11114                               bugün hava güzel\n",
              "11115                        allah akýl fikir versin\n",
              "11116                            allah belaný versin\n",
              "11117                   allah akýl fikir versin sana\n",
              "11118                        allah akýl fikir versin\n",
              "Name: text, Length: 11119, dtype: object"
            ]
          },
          "metadata": {},
          "execution_count": 27
        }
      ]
    },
    {
      "cell_type": "code",
      "source": [
        "#Burada tüm farklı kelimeleri sayıyoruz\n",
        "from collections import Counter\n",
        "\n",
        "def counter_word(text_col):\n",
        "  count = Counter()\n",
        "  for text in text_col.values:\n",
        "    for word in text.split():\n",
        "      count[word] += 1\n",
        "  return count\n",
        "\n",
        "counter = counter_word(df.text)"
      ],
      "metadata": {
        "id": "AglyynqzHEME"
      },
      "execution_count": 28,
      "outputs": []
    },
    {
      "cell_type": "code",
      "source": [
        "len(counter)"
      ],
      "metadata": {
        "colab": {
          "base_uri": "https://localhost:8080/"
        },
        "id": "cnWYoky3HVO4",
        "outputId": "95b76cc3-a962-4a0e-fbdf-4e4d65538d86"
      },
      "execution_count": 29,
      "outputs": [
        {
          "output_type": "execute_result",
          "data": {
            "text/plain": [
              "36005"
            ]
          },
          "metadata": {},
          "execution_count": 29
        }
      ]
    },
    {
      "cell_type": "code",
      "source": [
        "counter.most_common(5) \n",
        "# En sık kullanılan 5 kelimeye erişiyoruz."
      ],
      "metadata": {
        "colab": {
          "base_uri": "https://localhost:8080/"
        },
        "id": "rj5pQyQqHZby",
        "outputId": "443f2717-23fc-4543-b08b-5e015f736ac5"
      },
      "execution_count": 31,
      "outputs": [
        {
          "output_type": "execute_result",
          "data": {
            "text/plain": [
              "[('bir', 2031), ('ben', 585), ('kadar', 570), ('var', 540), ('sen', 491)]"
            ]
          },
          "metadata": {},
          "execution_count": 31
        }
      ]
    },
    {
      "cell_type": "code",
      "source": [
        "num_unique_words = len(counter) # Eşsiz Kelime Sayısı"
      ],
      "metadata": {
        "id": "U0QvZd4EHeN_"
      },
      "execution_count": 32,
      "outputs": []
    },
    {
      "cell_type": "code",
      "source": [
        "#Burada type tarafındaki negatif pozitif datasını 0 ve 1 olarak değiştiriyorum\n",
        "df['type'] = (df['type'] == \"Pozitif\").astype(int)\n",
        "\n"
      ],
      "metadata": {
        "id": "8dgj4mc3MuS9"
      },
      "execution_count": 70,
      "outputs": []
    },
    {
      "cell_type": "code",
      "source": [
        "df.head()"
      ],
      "metadata": {
        "colab": {
          "base_uri": "https://localhost:8080/",
          "height": 206
        },
        "id": "6_g54wVxS__y",
        "outputId": "8f05892e-1994-467b-81d3-846cd0fdee1d"
      },
      "execution_count": 72,
      "outputs": [
        {
          "output_type": "execute_result",
          "data": {
            "text/plain": [
              "   type                                         text\n",
              "0     0                doða aðzýmýza sýçsa hakký var\n",
              "1     1   anne bir sanatçýdýr güzel eseri yavrusudur\n",
              "2     0   ibrahimin oðlunu koruyan tanrý ben sokayým\n",
              "3     0  köpeðim suratýna sýçsýn senin namussuz karý\n",
              "4     0           ben söðüþledim birazda sen söðüþle"
            ],
            "text/html": [
              "\n",
              "  <div id=\"df-9ef2c847-2506-4642-87f9-a23e6548be2f\">\n",
              "    <div class=\"colab-df-container\">\n",
              "      <div>\n",
              "<style scoped>\n",
              "    .dataframe tbody tr th:only-of-type {\n",
              "        vertical-align: middle;\n",
              "    }\n",
              "\n",
              "    .dataframe tbody tr th {\n",
              "        vertical-align: top;\n",
              "    }\n",
              "\n",
              "    .dataframe thead th {\n",
              "        text-align: right;\n",
              "    }\n",
              "</style>\n",
              "<table border=\"1\" class=\"dataframe\">\n",
              "  <thead>\n",
              "    <tr style=\"text-align: right;\">\n",
              "      <th></th>\n",
              "      <th>type</th>\n",
              "      <th>text</th>\n",
              "    </tr>\n",
              "  </thead>\n",
              "  <tbody>\n",
              "    <tr>\n",
              "      <th>0</th>\n",
              "      <td>0</td>\n",
              "      <td>doða aðzýmýza sýçsa hakký var</td>\n",
              "    </tr>\n",
              "    <tr>\n",
              "      <th>1</th>\n",
              "      <td>1</td>\n",
              "      <td>anne bir sanatçýdýr güzel eseri yavrusudur</td>\n",
              "    </tr>\n",
              "    <tr>\n",
              "      <th>2</th>\n",
              "      <td>0</td>\n",
              "      <td>ibrahimin oðlunu koruyan tanrý ben sokayým</td>\n",
              "    </tr>\n",
              "    <tr>\n",
              "      <th>3</th>\n",
              "      <td>0</td>\n",
              "      <td>köpeðim suratýna sýçsýn senin namussuz karý</td>\n",
              "    </tr>\n",
              "    <tr>\n",
              "      <th>4</th>\n",
              "      <td>0</td>\n",
              "      <td>ben söðüþledim birazda sen söðüþle</td>\n",
              "    </tr>\n",
              "  </tbody>\n",
              "</table>\n",
              "</div>\n",
              "      <button class=\"colab-df-convert\" onclick=\"convertToInteractive('df-9ef2c847-2506-4642-87f9-a23e6548be2f')\"\n",
              "              title=\"Convert this dataframe to an interactive table.\"\n",
              "              style=\"display:none;\">\n",
              "        \n",
              "  <svg xmlns=\"http://www.w3.org/2000/svg\" height=\"24px\"viewBox=\"0 0 24 24\"\n",
              "       width=\"24px\">\n",
              "    <path d=\"M0 0h24v24H0V0z\" fill=\"none\"/>\n",
              "    <path d=\"M18.56 5.44l.94 2.06.94-2.06 2.06-.94-2.06-.94-.94-2.06-.94 2.06-2.06.94zm-11 1L8.5 8.5l.94-2.06 2.06-.94-2.06-.94L8.5 2.5l-.94 2.06-2.06.94zm10 10l.94 2.06.94-2.06 2.06-.94-2.06-.94-.94-2.06-.94 2.06-2.06.94z\"/><path d=\"M17.41 7.96l-1.37-1.37c-.4-.4-.92-.59-1.43-.59-.52 0-1.04.2-1.43.59L10.3 9.45l-7.72 7.72c-.78.78-.78 2.05 0 2.83L4 21.41c.39.39.9.59 1.41.59.51 0 1.02-.2 1.41-.59l7.78-7.78 2.81-2.81c.8-.78.8-2.07 0-2.86zM5.41 20L4 18.59l7.72-7.72 1.47 1.35L5.41 20z\"/>\n",
              "  </svg>\n",
              "      </button>\n",
              "      \n",
              "  <style>\n",
              "    .colab-df-container {\n",
              "      display:flex;\n",
              "      flex-wrap:wrap;\n",
              "      gap: 12px;\n",
              "    }\n",
              "\n",
              "    .colab-df-convert {\n",
              "      background-color: #E8F0FE;\n",
              "      border: none;\n",
              "      border-radius: 50%;\n",
              "      cursor: pointer;\n",
              "      display: none;\n",
              "      fill: #1967D2;\n",
              "      height: 32px;\n",
              "      padding: 0 0 0 0;\n",
              "      width: 32px;\n",
              "    }\n",
              "\n",
              "    .colab-df-convert:hover {\n",
              "      background-color: #E2EBFA;\n",
              "      box-shadow: 0px 1px 2px rgba(60, 64, 67, 0.3), 0px 1px 3px 1px rgba(60, 64, 67, 0.15);\n",
              "      fill: #174EA6;\n",
              "    }\n",
              "\n",
              "    [theme=dark] .colab-df-convert {\n",
              "      background-color: #3B4455;\n",
              "      fill: #D2E3FC;\n",
              "    }\n",
              "\n",
              "    [theme=dark] .colab-df-convert:hover {\n",
              "      background-color: #434B5C;\n",
              "      box-shadow: 0px 1px 3px 1px rgba(0, 0, 0, 0.15);\n",
              "      filter: drop-shadow(0px 1px 2px rgba(0, 0, 0, 0.3));\n",
              "      fill: #FFFFFF;\n",
              "    }\n",
              "  </style>\n",
              "\n",
              "      <script>\n",
              "        const buttonEl =\n",
              "          document.querySelector('#df-9ef2c847-2506-4642-87f9-a23e6548be2f button.colab-df-convert');\n",
              "        buttonEl.style.display =\n",
              "          google.colab.kernel.accessAllowed ? 'block' : 'none';\n",
              "\n",
              "        async function convertToInteractive(key) {\n",
              "          const element = document.querySelector('#df-9ef2c847-2506-4642-87f9-a23e6548be2f');\n",
              "          const dataTable =\n",
              "            await google.colab.kernel.invokeFunction('convertToInteractive',\n",
              "                                                     [key], {});\n",
              "          if (!dataTable) return;\n",
              "\n",
              "          const docLinkHtml = 'Like what you see? Visit the ' +\n",
              "            '<a target=\"_blank\" href=https://colab.research.google.com/notebooks/data_table.ipynb>data table notebook</a>'\n",
              "            + ' to learn more about interactive tables.';\n",
              "          element.innerHTML = '';\n",
              "          dataTable['output_type'] = 'display_data';\n",
              "          await google.colab.output.renderOutput(dataTable, element);\n",
              "          const docLink = document.createElement('div');\n",
              "          docLink.innerHTML = docLinkHtml;\n",
              "          element.appendChild(docLink);\n",
              "        }\n",
              "      </script>\n",
              "    </div>\n",
              "  </div>\n",
              "  "
            ]
          },
          "metadata": {},
          "execution_count": 72
        }
      ]
    },
    {
      "cell_type": "code",
      "source": [
        "#Eğitim için elimizdeki datanın yüzde 85'ini kullanıcam\n",
        "#Geri kalan ise valdiation için kullanıcam\n",
        "train_size = int(df.shape[0] * 0.85)\n",
        "train_df = df[:train_size]\n",
        "val_df = df[train_size:]\n",
        "\n",
        "#Textleri ve type 'ları ayırıyorum\n",
        "train_sentences = train_df.text.to_numpy()\n",
        "train_labels = train_df.type.to_numpy()\n",
        "val_sentences = val_df.text.to_numpy()\n",
        "val_labels = val_df.type.to_numpy()\n"
      ],
      "metadata": {
        "id": "ioiqYr4gH6cL"
      },
      "execution_count": 89,
      "outputs": []
    },
    {
      "cell_type": "code",
      "source": [
        "train_sentences.shape , val_sentences.shape"
      ],
      "metadata": {
        "colab": {
          "base_uri": "https://localhost:8080/"
        },
        "id": "TB2oiKsgIXZw",
        "outputId": "6d85439f-b1c4-4df6-9f8d-3cd0c766a220"
      },
      "execution_count": 90,
      "outputs": [
        {
          "output_type": "execute_result",
          "data": {
            "text/plain": [
              "((9451,), (1668,))"
            ]
          },
          "metadata": {},
          "execution_count": 90
        }
      ]
    },
    {
      "cell_type": "code",
      "source": [
        "#tokenizer paragrafları ve cümleleri daha kolay anlam atanabilecek daha küçük birimlere ayırır\n",
        "\n",
        "from tensorflow.keras.preprocessing.text import Tokenizer\n",
        "\n",
        "#vectorize a text corpus by turning each text into a sequance of integers\n",
        "tokenizer = Tokenizer(num_words=num_unique_words)\n",
        "tokenizer.fit_on_texts(train_sentences)"
      ],
      "metadata": {
        "id": "0Y1h5TW4ImcU"
      },
      "execution_count": 91,
      "outputs": []
    },
    {
      "cell_type": "code",
      "source": [
        "#Her kelimenin kendine özel bir indexi var\n",
        "word_index = tokenizer.word_index"
      ],
      "metadata": {
        "id": "YqiXq8R8J1b7"
      },
      "execution_count": 92,
      "outputs": []
    },
    {
      "cell_type": "code",
      "source": [
        "word_index"
      ],
      "metadata": {
        "colab": {
          "base_uri": "https://localhost:8080/"
        },
        "id": "_RqW9aZXJ7R9",
        "outputId": "c2434065-f67c-48e8-e273-04951c1be876"
      },
      "execution_count": 93,
      "outputs": [
        {
          "output_type": "execute_result",
          "data": {
            "text/plain": [
              "{'bir': 1,\n",
              " 'ben': 2,\n",
              " 'kadar': 3,\n",
              " 'var': 4,\n",
              " 'sen': 5,\n",
              " 'bi': 6,\n",
              " 'senin': 7,\n",
              " 'seni': 8,\n",
              " 'yok': 9,\n",
              " 'orospu': 10,\n",
              " 'mi': 11,\n",
              " 'olsun': 12,\n",
              " 'deðil': 13,\n",
              " 'amk': 14,\n",
              " 'lan': 15,\n",
              " 'güzel': 16,\n",
              " 'böyle': 17,\n",
              " 'sonra': 18,\n",
              " 'allah': 19,\n",
              " 'sana': 20,\n",
              " 'iyi': 21,\n",
              " 'benim': 22,\n",
              " 'artýk': 23,\n",
              " 'bak': 24,\n",
              " 'olan': 25,\n",
              " 'gün': 26,\n",
              " 'bile': 27,\n",
              " 'çocuðu': 28,\n",
              " 'pezevenk': 29,\n",
              " 'aptal': 30,\n",
              " 'beni': 31,\n",
              " 'adam': 32,\n",
              " 'bana': 33,\n",
              " 'büyük': 34,\n",
              " 'insan': 35,\n",
              " 'önce': 36,\n",
              " 'aq': 37,\n",
              " 'zaman': 38,\n",
              " 'tek': 39,\n",
              " 'olarak': 40,\n",
              " 'yine': 41,\n",
              " 'köpek': 42,\n",
              " 'þimdi': 43,\n",
              " 'sadece': 44,\n",
              " 'göt': 45,\n",
              " 'olur': 46,\n",
              " 'bunu': 47,\n",
              " 'öyle': 48,\n",
              " 'sizin': 49,\n",
              " 'türkiye': 50,\n",
              " 'zaten': 51,\n",
              " 'türk': 52,\n",
              " 'git': 53,\n",
              " 'kendi': 54,\n",
              " 'çocuk': 55,\n",
              " 'tam': 56,\n",
              " 'ilk': 57,\n",
              " 'can': 58,\n",
              " 'iki': 59,\n",
              " 'kýz': 60,\n",
              " 'veren': 61,\n",
              " 'sokim': 62,\n",
              " 'bugün': 63,\n",
              " 'kadýn': 64,\n",
              " 'oldu': 65,\n",
              " 'götlek': 66,\n",
              " 'bizim': 67,\n",
              " 'ayný': 68,\n",
              " 'olmak': 69,\n",
              " 'herkes': 70,\n",
              " 'þerefsiz': 71,\n",
              " 'versin': 72,\n",
              " 'pislik': 73,\n",
              " 'ulan': 74,\n",
              " 'ayasofya': 75,\n",
              " 'size': 76,\n",
              " 'siktir': 77,\n",
              " 'hala': 78,\n",
              " 'nin': 79,\n",
              " 'ölsün': 80,\n",
              " 'in': 81,\n",
              " 'sokayým': 82,\n",
              " 'diyor': 83,\n",
              " 'bunlar': 84,\n",
              " 'be': 85,\n",
              " 'gerizeka': 86,\n",
              " 'devam': 87,\n",
              " 'yeni': 88,\n",
              " 'mutluyum': 89,\n",
              " 'olduðunu': 90,\n",
              " 'hayýrlý': 91,\n",
              " 'insanlar': 92,\n",
              " 'baþka': 93,\n",
              " 'ýn': 94,\n",
              " 'tipsiz': 95,\n",
              " 'öldürürüm': 96,\n",
              " 'hadi': 97,\n",
              " 'nýn': 98,\n",
              " 'mutlu': 99,\n",
              " 'iþte': 100,\n",
              " 'bunun': 101,\n",
              " 'olsa': 102,\n",
              " 'içinde': 103,\n",
              " 'kahpe': 104,\n",
              " 'yunan': 105,\n",
              " 'gerçekten': 106,\n",
              " 'yýl': 107,\n",
              " 'dünya': 108,\n",
              " 'götveren': 109,\n",
              " 'hiçbir': 110,\n",
              " 'onu': 111,\n",
              " 'son': 112,\n",
              " 'andaval': 113,\n",
              " 'kendini': 114,\n",
              " 'ye': 115,\n",
              " 'makyaj': 116,\n",
              " 'demek': 117,\n",
              " 'istiyorum': 118,\n",
              " 'þarký': 119,\n",
              " 'kancýk': 120,\n",
              " 'salak': 121,\n",
              " 'bize': 122,\n",
              " 'ediyor': 123,\n",
              " 'an': 124,\n",
              " 'bütün': 125,\n",
              " 'boþ': 126,\n",
              " 'para': 127,\n",
              " 'lazým': 128,\n",
              " 'eden': 129,\n",
              " 'ezik': 130,\n",
              " 'falan': 131,\n",
              " 'yoksa': 132,\n",
              " 'cok': 133,\n",
              " 'olduðu': 134,\n",
              " 'amýna': 135,\n",
              " 'amcýk': 136,\n",
              " 'domal': 137,\n",
              " 'kimse': 138,\n",
              " 'kitap': 139,\n",
              " 'oluyor': 140,\n",
              " 'sizi': 141,\n",
              " 'varsa': 142,\n",
              " 'fazla': 143,\n",
              " 'göre': 144,\n",
              " 'biraz': 145,\n",
              " 'çocuklarý': 146,\n",
              " 'sikerim': 147,\n",
              " 'geber': 148,\n",
              " 'çekiþerek': 149,\n",
              " 'olacak': 150,\n",
              " 'yerine': 151,\n",
              " 'ediyorum': 152,\n",
              " 'laf': 153,\n",
              " 'ders': 154,\n",
              " 'tane': 155,\n",
              " 'kiþi': 156,\n",
              " 'ibne': 157,\n",
              " 'karþý': 158,\n",
              " 'zor': 159,\n",
              " 'soytarý': 160,\n",
              " 'baþarýlý': 161,\n",
              " 'geri': 162,\n",
              " 'herif': 163,\n",
              " 'diyen': 164,\n",
              " 'yeter': 165,\n",
              " 'güzelsin': 166,\n",
              " 'yavþak': 167,\n",
              " 'doðru': 168,\n",
              " 'mal': 169,\n",
              " 'atatürk': 170,\n",
              " 'fahiþe': 171,\n",
              " 'beyinsiz': 172,\n",
              " 'sosyal': 173,\n",
              " 'abi': 174,\n",
              " 'geldi': 175,\n",
              " 'olmayan': 176,\n",
              " 'gerek': 177,\n",
              " 'yi': 178,\n",
              " 'lütfen': 179,\n",
              " 'çikolata': 180,\n",
              " 'kaç': 181,\n",
              " 'arkadaþlar': 182,\n",
              " 'kardeþim': 183,\n",
              " 'olmaz': 184,\n",
              " 'gelen': 185,\n",
              " 'ülkede': 186,\n",
              " 'bizi': 187,\n",
              " 'düðün': 188,\n",
              " 'yalaka': 189,\n",
              " 'evet': 190,\n",
              " 'yer': 191,\n",
              " 'su': 192,\n",
              " 'kürt': 193,\n",
              " 'dedi': 194,\n",
              " 'iþ': 195,\n",
              " 'ay': 196,\n",
              " 'sikeyim': 197,\n",
              " 'onun': 198,\n",
              " 'embesil': 199,\n",
              " 'sürtük': 200,\n",
              " 'et': 201,\n",
              " 'olmuþ': 202,\n",
              " 'oç': 203,\n",
              " 'yarrak': 204,\n",
              " 'sikim': 205,\n",
              " 'geçen': 206,\n",
              " 'oldum': 207,\n",
              " 'al': 208,\n",
              " 'bence': 209,\n",
              " 'kötü': 210,\n",
              " 'ona': 211,\n",
              " 'sabah': 212,\n",
              " 'diyorum': 213,\n",
              " 'bok': 214,\n",
              " 'þekilde': 215,\n",
              " 'gelir': 216,\n",
              " 'eski': 217,\n",
              " 'tebrikler': 218,\n",
              " 'müzik': 219,\n",
              " 'yarýn': 220,\n",
              " 'vardýr': 221,\n",
              " 'gel': 222,\n",
              " 'ülkenin': 223,\n",
              " 'önemli': 224,\n",
              " 'bin': 225,\n",
              " 'sene': 226,\n",
              " 'herkese': 227,\n",
              " 'sýk': 228,\n",
              " 'dan': 229,\n",
              " 'keþke': 230,\n",
              " 'geliyor': 231,\n",
              " 'gece': 232,\n",
              " 'açýk': 233,\n",
              " 'nefret': 234,\n",
              " 'piç': 235,\n",
              " 'erkek': 236,\n",
              " 'bende': 237,\n",
              " 'ol': 238,\n",
              " 'buna': 239,\n",
              " 'þeyler': 240,\n",
              " 'gerçek': 241,\n",
              " 'sahip': 242,\n",
              " 'yapma': 243,\n",
              " 'tudor': 244,\n",
              " 'boðul': 245,\n",
              " 'ha': 246,\n",
              " 'deðilim': 247,\n",
              " 'umarým': 248,\n",
              " 'yapan': 249,\n",
              " 'kaldý': 250,\n",
              " 'þeyi': 251,\n",
              " 'sikik': 252,\n",
              " 'asla': 253,\n",
              " 'ses': 254,\n",
              " 'hemen': 255,\n",
              " 'aþaðýlýk': 256,\n",
              " 'pisliðinde': 257,\n",
              " 'çýktý': 258,\n",
              " 'barýþ': 259,\n",
              " 'hangi': 260,\n",
              " 'onlar': 261,\n",
              " 'sorun': 262,\n",
              " 'sokturma': 263,\n",
              " 'özel': 264,\n",
              " 'tecavüz': 265,\n",
              " 'yapýyor': 266,\n",
              " 'caným': 267,\n",
              " 'kutlu': 268,\n",
              " 'yerde': 269,\n",
              " 'icin': 270,\n",
              " 'inþallah': 271,\n",
              " 'la': 272,\n",
              " 'vatan': 273,\n",
              " 'dünyanýn': 274,\n",
              " 'dün': 275,\n",
              " 'yüzünden': 276,\n",
              " 'etmek': 277,\n",
              " 'arada': 278,\n",
              " 'yapmak': 279,\n",
              " 'þükür': 280,\n",
              " 'ancak': 281,\n",
              " 'burda': 282,\n",
              " 'bakalým': 283,\n",
              " 'ananý': 284,\n",
              " 'etti': 285,\n",
              " 'oc': 286,\n",
              " 'dedim': 287,\n",
              " 'senden': 288,\n",
              " 'tabi': 289,\n",
              " 'merhaba': 290,\n",
              " 'den': 291,\n",
              " 'he': 292,\n",
              " 'kendimi': 293,\n",
              " 'günü': 294,\n",
              " 'sende': 295,\n",
              " 'evladý': 296,\n",
              " 'vay': 297,\n",
              " 'survivor': 298,\n",
              " 'olabilir': 299,\n",
              " 'aþk': 300,\n",
              " 'küçük': 301,\n",
              " 'tamam': 302,\n",
              " 'tl': 303,\n",
              " 'iþi': 304,\n",
              " 'çalýþan': 305,\n",
              " 'aþýrý': 306,\n",
              " 'merak': 307,\n",
              " 'söz': 308,\n",
              " 'küfür': 309,\n",
              " 'oðlu': 310,\n",
              " 'anasýný': 311,\n",
              " 'vardý': 312,\n",
              " 'resmen': 313,\n",
              " 'yere': 314,\n",
              " 'benden': 315,\n",
              " 'sikeriz': 316,\n",
              " 'baþkaný': 317,\n",
              " 'hayat': 318,\n",
              " 'insanlarýn': 319,\n",
              " 'kadýna': 320,\n",
              " 'gerizekalý': 321,\n",
              " 'un': 322,\n",
              " 'yorum': 323,\n",
              " 'ortaya': 324,\n",
              " 'insanlarý': 325,\n",
              " 'karar': 326,\n",
              " 'kere': 327,\n",
              " 'nedir': 328,\n",
              " 'deðildir': 329,\n",
              " 'dm': 330,\n",
              " 'abd': 331,\n",
              " 'millet': 332,\n",
              " 'genel': 333,\n",
              " 'eder': 334,\n",
              " 'seks': 335,\n",
              " 'ederim': 336,\n",
              " 'olmasý': 337,\n",
              " 'galiba': 338,\n",
              " 'yanlýþ': 339,\n",
              " 'hak': 340,\n",
              " 'aðzýna': 341,\n",
              " 'bakýn': 342,\n",
              " 'aþýk': 343,\n",
              " 'oy': 344,\n",
              " 'hain': 345,\n",
              " 'beri': 346,\n",
              " 'yaþýnda': 347,\n",
              " 'kendine': 348,\n",
              " 'göz': 349,\n",
              " 'orospular': 350,\n",
              " 'gavat': 351,\n",
              " 'pek': 352,\n",
              " 'sanat': 353,\n",
              " 'at': 354,\n",
              " 'þiþko': 355,\n",
              " 'hakaret': 356,\n",
              " 'it': 357,\n",
              " 'bundan': 358,\n",
              " 'yaptýðý': 359,\n",
              " 'olay': 360,\n",
              " 'bunlarý': 361,\n",
              " 'si': 362,\n",
              " 'milyon': 363,\n",
              " 'stanbul': 364,\n",
              " 'varken': 365,\n",
              " 'bitti': 366,\n",
              " 'yaa': 367,\n",
              " 'angut': 368,\n",
              " 'karý': 369,\n",
              " 'belli': 370,\n",
              " 'li': 371,\n",
              " 'takip': 372,\n",
              " 'altýnda': 373,\n",
              " 'seviyorum': 374,\n",
              " 'pis': 375,\n",
              " 'adý': 376,\n",
              " 'cocugu': 377,\n",
              " 'hayýr': 378,\n",
              " 'adalet': 379,\n",
              " 'dünyada': 380,\n",
              " 'insaný': 381,\n",
              " 'porno': 382,\n",
              " 'sik': 383,\n",
              " 'diðer': 384,\n",
              " 'akþam': 385,\n",
              " 'demokrasi': 386,\n",
              " 'bilgisayar': 387,\n",
              " 'aþifte': 388,\n",
              " 'galatasaray': 389,\n",
              " 'ilgili': 390,\n",
              " 'oyun': 391,\n",
              " 'olma': 392,\n",
              " 'sus': 393,\n",
              " 'ahlak': 394,\n",
              " 'hocam': 395,\n",
              " 'þuan': 396,\n",
              " 'lah': 397,\n",
              " 'sensin': 398,\n",
              " 'mýsýnýz': 399,\n",
              " 'þaka': 400,\n",
              " 'insanlara': 401,\n",
              " 'ta': 402,\n",
              " 'amcik': 403,\n",
              " 'yasin': 404,\n",
              " 'tatlý': 405,\n",
              " 'hayýrlýsý': 406,\n",
              " 'amina': 407,\n",
              " 'yapýlan': 408,\n",
              " 'bari': 409,\n",
              " 'yazýk': 410,\n",
              " 'video': 411,\n",
              " 'medya': 412,\n",
              " 'yaz': 413,\n",
              " 'normal': 414,\n",
              " 'çocuðun': 415,\n",
              " 'telefon': 416,\n",
              " 'mýsýn': 417,\n",
              " 'ülke': 418,\n",
              " 'evde': 419,\n",
              " 'baþýna': 420,\n",
              " 'sürekli': 421,\n",
              " 'destek': 422,\n",
              " 'valla': 423,\n",
              " 'gizli': 424,\n",
              " 'olun': 425,\n",
              " 'sanýrým': 426,\n",
              " 'kabul': 427,\n",
              " 'savaþ': 428,\n",
              " 'farklý': 429,\n",
              " 'yol': 430,\n",
              " 'sex': 431,\n",
              " 'sanal': 432,\n",
              " 'cerrahpaþaduruþu': 433,\n",
              " 'fikir': 434,\n",
              " 'teþekkür': 435,\n",
              " 'kedi': 436,\n",
              " 'ni': 437,\n",
              " 'üzerine': 438,\n",
              " 'teþekkürler': 439,\n",
              " 'halde': 440,\n",
              " 'doðum': 441,\n",
              " 'yakýn': 442,\n",
              " 'sakarya': 443,\n",
              " 'ah': 444,\n",
              " 'türlü': 445,\n",
              " 'tekrar': 446,\n",
              " 'hay': 447,\n",
              " 'kýsa': 448,\n",
              " 'insanýn': 449,\n",
              " 'burada': 450,\n",
              " 'yaptý': 451,\n",
              " 'zorunda': 452,\n",
              " 'birlikte': 453,\n",
              " 'birde': 454,\n",
              " 'içine': 455,\n",
              " 'üç': 456,\n",
              " 'isteyen': 457,\n",
              " 'sikiþ': 458,\n",
              " 'götünü': 459,\n",
              " 'aldým': 460,\n",
              " 'uzun': 461,\n",
              " 'chp': 462,\n",
              " 'kemal': 463,\n",
              " 'yoktur': 464,\n",
              " 'saygý': 465,\n",
              " 'cahil': 466,\n",
              " 'dolu': 467,\n",
              " 'saðlýk': 468,\n",
              " 'saat': 469,\n",
              " 'tarafýndan': 470,\n",
              " 'ahlaksýz': 471,\n",
              " 'adamýn': 472,\n",
              " 'raðmen': 473,\n",
              " 'sikiyim': 474,\n",
              " 'adi': 475,\n",
              " 'ün': 476,\n",
              " 'el': 477,\n",
              " 'sayýn': 478,\n",
              " 'olup': 479,\n",
              " 'yapýp': 480,\n",
              " 'bozuk': 481,\n",
              " 'yalan': 482,\n",
              " 'fatih': 483,\n",
              " 'hafta': 484,\n",
              " 'mesela': 485,\n",
              " 'hele': 486,\n",
              " 'devlet': 487,\n",
              " 'iþe': 488,\n",
              " 'sikeceksin': 489,\n",
              " 'süpersin': 490,\n",
              " 'durum': 491,\n",
              " 'netflix': 492,\n",
              " 'gelmiþ': 493,\n",
              " 'çýkan': 494,\n",
              " 'belaný': 495,\n",
              " 'fenerbahçe': 496,\n",
              " 'fark': 497,\n",
              " 'acý': 498,\n",
              " 'cidden': 499,\n",
              " 'deli': 500,\n",
              " 'kolay': 501,\n",
              " 'bunlarýn': 502,\n",
              " 'izin': 503,\n",
              " 'eðitim': 504,\n",
              " 'yüzden': 505,\n",
              " 'diyo': 506,\n",
              " 'net': 507,\n",
              " 'çýkýyor': 508,\n",
              " 'birini': 509,\n",
              " 'çocuklar': 510,\n",
              " 'yapar': 511,\n",
              " 'kilo': 512,\n",
              " 'hasta': 513,\n",
              " 'ana': 514,\n",
              " 'te': 515,\n",
              " 'deðer': 516,\n",
              " 'tarihi': 517,\n",
              " 'tiktok': 518,\n",
              " 'akp': 519,\n",
              " 'helal': 520,\n",
              " 'kimsenin': 521,\n",
              " 'havai': 522,\n",
              " 'iðrenç': 523,\n",
              " 'avrupa': 524,\n",
              " 'gereken': 525,\n",
              " 'beynini': 526,\n",
              " 'twitter': 527,\n",
              " 'tatlýsýn': 528,\n",
              " 'altýna': 529,\n",
              " 'þöyle': 530,\n",
              " 'cevap': 531,\n",
              " 'selam': 532,\n",
              " 'ayrýca': 533,\n",
              " 'cinsel': 534,\n",
              " 'olmaya': 535,\n",
              " 'bide': 536,\n",
              " 'lanet': 537,\n",
              " 'aç': 538,\n",
              " 'arasýnda': 539,\n",
              " 'herkesi': 540,\n",
              " 'ait': 541,\n",
              " 'yanýnda': 542,\n",
              " 'iþin': 543,\n",
              " 'am': 544,\n",
              " 'azdým': 545,\n",
              " 'kýzlar': 546,\n",
              " 'ondan': 547,\n",
              " 'edin': 548,\n",
              " 'cüce': 549,\n",
              " 'bücür': 550,\n",
              " 'olamaz': 551,\n",
              " 'sokak': 552,\n",
              " 'neler': 553,\n",
              " 'ara': 554,\n",
              " 'hic': 555,\n",
              " 'fiþek': 556,\n",
              " 'arkadaþ': 557,\n",
              " 'kafasýna': 558,\n",
              " 'müslüman': 559,\n",
              " 'misin': 560,\n",
              " 'kafa': 561,\n",
              " 'günaydýn': 562,\n",
              " 'gitti': 563,\n",
              " 'ver': 564,\n",
              " 'baya': 565,\n",
              " 'canlý': 566,\n",
              " 'gelip': 567,\n",
              " 'býrakýn': 568,\n",
              " 'yý': 569,\n",
              " 'of': 570,\n",
              " 'komik': 571,\n",
              " 'sizden': 572,\n",
              " 'biþey': 573,\n",
              " 'kimsin': 574,\n",
              " 'baþladý': 575,\n",
              " 'saçma': 576,\n",
              " 'alýp': 577,\n",
              " 'soru': 578,\n",
              " 'yaþýndaki': 579,\n",
              " 'milli': 580,\n",
              " 'sapýk': 581,\n",
              " 'fotoðraf': 582,\n",
              " 'azgýn': 583,\n",
              " 'erdoðan': 584,\n",
              " 'haným': 585,\n",
              " 'gider': 586,\n",
              " 'çýkar': 587,\n",
              " 'beraber': 588,\n",
              " 'götüne': 589,\n",
              " 'tarih': 590,\n",
              " 'yarak': 591,\n",
              " 'millete': 592,\n",
              " 'dönek': 593,\n",
              " 'dürzü': 594,\n",
              " 'namussuz': 595,\n",
              " 'inþlah': 596,\n",
              " 'misiniz': 597,\n",
              " 'demiþ': 598,\n",
              " 'defol': 599,\n",
              " 'olursa': 600,\n",
              " 'hakkýnda': 601,\n",
              " 'sýcak': 602,\n",
              " 'vs': 603,\n",
              " 'yeri': 604,\n",
              " 'alan': 605,\n",
              " 'kaltak': 606,\n",
              " 'gelecek': 607,\n",
              " 'dilerim': 608,\n",
              " 'sol': 609,\n",
              " 'ali': 610,\n",
              " 'kaþar': 611,\n",
              " 'gördüm': 612,\n",
              " 'almak': 613,\n",
              " 'yap': 614,\n",
              " 'miyim': 615,\n",
              " 'gi': 616,\n",
              " 'olmasýn': 617,\n",
              " 'rezil': 618,\n",
              " 'yalnýz': 619,\n",
              " 'edip': 620,\n",
              " 'yemek': 621,\n",
              " 'rahmet': 622,\n",
              " 'bilim': 623,\n",
              " 'cezasý': 624,\n",
              " 'orda': 625,\n",
              " 'ordan': 626,\n",
              " 'biliyor': 627,\n",
              " 'koyduðum': 628,\n",
              " 'sonunda': 629,\n",
              " 'gelsin': 630,\n",
              " 'ayrý': 631,\n",
              " 'kesin': 632,\n",
              " 'edildi': 633,\n",
              " 'gerzek': 634,\n",
              " 'peki': 635,\n",
              " 'beyin': 636,\n",
              " 'mustafa': 637,\n",
              " 'gidin': 638,\n",
              " 'atan': 639,\n",
              " 'çalýþýyor': 640,\n",
              " 'kadýnýn': 641,\n",
              " 'allahým': 642,\n",
              " 'herkesin': 643,\n",
              " 'degil': 644,\n",
              " 'neyse': 645,\n",
              " 'kime': 646,\n",
              " 'edecek': 647,\n",
              " 'hatta': 648,\n",
              " 'gurur': 649,\n",
              " 'önüne': 650,\n",
              " 'bey': 651,\n",
              " 'deðilsin': 652,\n",
              " 'çirkin': 653,\n",
              " 'kýzý': 654,\n",
              " 'artik': 655,\n",
              " 'mabel': 656,\n",
              " 'beyaz': 657,\n",
              " 'günde': 658,\n",
              " 'nisa': 659,\n",
              " 'þeye': 660,\n",
              " 'kimseye': 661,\n",
              " 'sanatçý': 662,\n",
              " 'konuþma': 663,\n",
              " 'eksik': 664,\n",
              " 'etme': 665,\n",
              " 'anda': 666,\n",
              " 'veriyor': 667,\n",
              " 'haklý': 668,\n",
              " 'çýkýp': 669,\n",
              " 'haberi': 670,\n",
              " 'hani': 671,\n",
              " 'erkekler': 672,\n",
              " 'rahat': 673,\n",
              " 'býrak': 674,\n",
              " 'haber': 675,\n",
              " 'üzerinden': 676,\n",
              " 'yüz': 677,\n",
              " 'grup': 678,\n",
              " 'takým': 679,\n",
              " 'sevgili': 680,\n",
              " 'kalan': 681,\n",
              " 'boyunca': 682,\n",
              " 'kendime': 683,\n",
              " 'sýra': 684,\n",
              " 'gidiyor': 685,\n",
              " 'bazen': 686,\n",
              " 'beþiktaþ': 687,\n",
              " 'sokayim': 688,\n",
              " 'yaptýðým': 689,\n",
              " 'elinde': 690,\n",
              " 'düzgün': 691,\n",
              " 'birisi': 692,\n",
              " 'rabbim': 693,\n",
              " 'boþuna': 694,\n",
              " 'milletin': 695,\n",
              " 'yaþ': 696,\n",
              " 'burdan': 697,\n",
              " 'yüzüne': 698,\n",
              " 'haysiyetsiz': 699,\n",
              " 'hesap': 700,\n",
              " 'günün': 701,\n",
              " 'orada': 702,\n",
              " 'aðýr': 703,\n",
              " 'daki': 704,\n",
              " 'nasil': 705,\n",
              " 'dikkat': 706,\n",
              " 'görmedim': 707,\n",
              " 'bilmiyorum': 708,\n",
              " 'alýn': 709,\n",
              " 'yüksek': 710,\n",
              " 'okul': 711,\n",
              " 'aile': 712,\n",
              " 'asýl': 713,\n",
              " 'hayatý': 714,\n",
              " 'garip': 715,\n",
              " 'çocuklara': 716,\n",
              " 'hoca': 717,\n",
              " 'ceza': 718,\n",
              " 'lira': 719,\n",
              " 'üstüne': 720,\n",
              " 'yerinde': 721,\n",
              " 'kýzým': 722,\n",
              " 'lk': 723,\n",
              " 'bekliyorum': 724,\n",
              " 'günler': 725,\n",
              " 'akýl': 726,\n",
              " 'der': 727,\n",
              " 'olduðun': 728,\n",
              " 'harika': 729,\n",
              " 'nde': 730,\n",
              " 'yemekteyiz': 731,\n",
              " 'þerefiz': 732,\n",
              " 'sokarým': 733,\n",
              " 'þýk': 734,\n",
              " 'evli': 735,\n",
              " 'kancik': 736,\n",
              " 'anne': 737,\n",
              " 'kendisi': 738,\n",
              " 'çift': 739,\n",
              " 'mesaj': 740,\n",
              " 'bunlara': 741,\n",
              " 'atýp': 742,\n",
              " 'yana': 743,\n",
              " 'dizi': 744,\n",
              " 'ister': 745,\n",
              " 'etmeyin': 746,\n",
              " 'yav': 747,\n",
              " 'dünyaya': 748,\n",
              " 'gitsin': 749,\n",
              " 'geç': 750,\n",
              " 'þerefsizler': 751,\n",
              " 'kafana': 752,\n",
              " 'yaptým': 753,\n",
              " 'sevmeyen': 754,\n",
              " 'adama': 755,\n",
              " 'razý': 756,\n",
              " 'yýldýr': 757,\n",
              " 'puþt': 758,\n",
              " 'istemiyorum': 759,\n",
              " 'maðdur': 760,\n",
              " 'milleti': 761,\n",
              " 'rahatsýz': 762,\n",
              " 'gerekiyor': 763,\n",
              " 'iptal': 764,\n",
              " 'edilen': 765,\n",
              " 'aldýðý': 766,\n",
              " 'sokakta': 767,\n",
              " 'temiz': 768,\n",
              " 'çocuklarýn': 769,\n",
              " 'dalga': 770,\n",
              " 'olmalý': 771,\n",
              " 'adamý': 772,\n",
              " 'allahýn': 773,\n",
              " 'dört': 774,\n",
              " 'neyin': 775,\n",
              " 'musun': 776,\n",
              " 'ekmek': 777,\n",
              " 'geçti': 778,\n",
              " 'olum': 779,\n",
              " 'kevaþe': 780,\n",
              " 'sürü': 781,\n",
              " 'bizden': 782,\n",
              " 'dolayý': 783,\n",
              " 'baþýnda': 784,\n",
              " 'yeniden': 785,\n",
              " 'cumhurbaþkaný': 786,\n",
              " 'rusya': 787,\n",
              " 'verdi': 788,\n",
              " 'gelin': 789,\n",
              " 'diliyorum': 790,\n",
              " 'din': 791,\n",
              " 'ey': 792,\n",
              " 'kan': 793,\n",
              " 'yýllýk': 794,\n",
              " 'sokuk': 795,\n",
              " 'cami': 796,\n",
              " 'adým': 797,\n",
              " 'yahu': 798,\n",
              " 'kadýný': 799,\n",
              " 'seninle': 800,\n",
              " 'dümbük': 801,\n",
              " 'kurban': 802,\n",
              " 'öküz': 803,\n",
              " 'sabahlar': 804,\n",
              " 'sikdi': 805,\n",
              " 'bakaný': 806,\n",
              " 'diyorlar': 807,\n",
              " 'araya': 808,\n",
              " 'verdiði': 809,\n",
              " 'film': 810,\n",
              " 'gay': 811,\n",
              " 'kodumun': 812,\n",
              " 'dur': 813,\n",
              " 'düþünüyorum': 814,\n",
              " 'çocuða': 815,\n",
              " 'zmir': 816,\n",
              " 'uygun': 817,\n",
              " 'karþýsýnda': 818,\n",
              " 'hava': 819,\n",
              " 'aklý': 820,\n",
              " 'geçmiþ': 821,\n",
              " 'sesi': 822,\n",
              " 'kadýnlar': 823,\n",
              " 'zamanýnda': 824,\n",
              " 'ilkbahar': 825,\n",
              " 'belanýzý': 826,\n",
              " 'sonuna': 827,\n",
              " 'yapmýþ': 828,\n",
              " 'tehdit': 829,\n",
              " 'bakan': 830,\n",
              " 'bol': 831,\n",
              " 'ti': 832,\n",
              " 'haini': 833,\n",
              " 'içi': 834,\n",
              " 'matiz': 835,\n",
              " 'harikasýn': 836,\n",
              " 'gören': 837,\n",
              " 'aldý': 838,\n",
              " 'yerini': 839,\n",
              " 'baba': 840,\n",
              " 'ruh': 841,\n",
              " 'oyuncu': 842,\n",
              " 'sýnav': 843,\n",
              " 'online': 844,\n",
              " 'iç': 845,\n",
              " 'bilmem': 846,\n",
              " 'kafayý': 847,\n",
              " 'konu': 848,\n",
              " 'tag': 849,\n",
              " 'gündem': 850,\n",
              " 'ardýndan': 851,\n",
              " 'hýrsýz': 852,\n",
              " 'eve': 853,\n",
              " 'tv': 854,\n",
              " 'olduðum': 855,\n",
              " 'ilan': 856,\n",
              " 'direk': 857,\n",
              " 'bekliyor': 858,\n",
              " 'maske': 859,\n",
              " 'siyasi': 860,\n",
              " 'sultan': 861,\n",
              " 'yerli': 862,\n",
              " 'isterim': 863,\n",
              " 'kimin': 864,\n",
              " 'zarar': 865,\n",
              " 'gayet': 866,\n",
              " 'seçim': 867,\n",
              " 'diyip': 868,\n",
              " 'olurdu': 869,\n",
              " 'bilen': 870,\n",
              " 'hata': 871,\n",
              " 'binlerce': 872,\n",
              " 'adamlar': 873,\n",
              " 'liseli': 874,\n",
              " 'görmek': 875,\n",
              " 'gündür': 876,\n",
              " 'aþkým': 877,\n",
              " 'yapmaya': 878,\n",
              " 'guzel': 879,\n",
              " 'boy': 880,\n",
              " 'kes': 881,\n",
              " 'kahve': 882,\n",
              " 'dombili': 883,\n",
              " 'ebeni': 884,\n",
              " 'lavuk': 885,\n",
              " 'izmir': 886,\n",
              " 'korkak': 887,\n",
              " 'izlemek': 888,\n",
              " 'huzur': 889,\n",
              " 'kanka': 890,\n",
              " 'sayesinde': 891,\n",
              " 'deðilsiniz': 892,\n",
              " 'ler': 893,\n",
              " 'davet': 894,\n",
              " 'önünde': 895,\n",
              " 'girip': 896,\n",
              " 'hayatta': 897,\n",
              " 'kültür': 898,\n",
              " 'ünlü': 899,\n",
              " 'akþamlar': 900,\n",
              " 'özür': 901,\n",
              " 'insana': 902,\n",
              " 'hayvan': 903,\n",
              " 'etsin': 904,\n",
              " 'fena': 905,\n",
              " 'musunuz': 906,\n",
              " 'tatil': 907,\n",
              " 'yalancý': 908,\n",
              " 'boyle': 909,\n",
              " 'yada': 910,\n",
              " 'exatlon': 911,\n",
              " 'yerden': 912,\n",
              " 'öldü': 913,\n",
              " 'yaparak': 914,\n",
              " 'arkadaþým': 915,\n",
              " 'çeken': 916,\n",
              " 'tagý': 917,\n",
              " 'simdi': 918,\n",
              " 'budur': 919,\n",
              " 'güne': 920,\n",
              " 'istiyor': 921,\n",
              " 'taciz': 922,\n",
              " 'leri': 923,\n",
              " 'bulunan': 924,\n",
              " 'derken': 925,\n",
              " 'kararý': 926,\n",
              " 'ölüm': 927,\n",
              " 'dahil': 928,\n",
              " 'tebrik': 929,\n",
              " 'çalýþma': 930,\n",
              " 'tepki': 931,\n",
              " 'alakasý': 932,\n",
              " 'intihar': 933,\n",
              " 'derler': 934,\n",
              " 'çay': 935,\n",
              " 'soysuz': 936,\n",
              " 'saç': 937,\n",
              " 'deniz': 938,\n",
              " 'birine': 939,\n",
              " 'yasak': 940,\n",
              " 'asker': 941,\n",
              " 'istanbul': 942,\n",
              " 'dua': 943,\n",
              " 'osmanlý': 944,\n",
              " 'görünce': 945,\n",
              " 'giden': 946,\n",
              " 'yapmayýn': 947,\n",
              " 'onlara': 948,\n",
              " 'onlarýn': 949,\n",
              " 'aynen': 950,\n",
              " 'parasý': 951,\n",
              " 'adýna': 952,\n",
              " 'hayatýn': 953,\n",
              " 'þehit': 954,\n",
              " 'terk': 955,\n",
              " 'yolu': 956,\n",
              " 'anca': 957,\n",
              " 'yedi': 958,\n",
              " 'cumhuriyeti': 959,\n",
              " 'sakso': 960,\n",
              " 'sürüsü': 961,\n",
              " 'buraya': 962,\n",
              " 'boyu': 963,\n",
              " 'serseri': 964,\n",
              " 'vakti': 965,\n",
              " 'bizde': 966,\n",
              " 'etmez': 967,\n",
              " 'oldun': 968,\n",
              " 'kýza': 969,\n",
              " 'hepiniz': 970,\n",
              " 'sn': 971,\n",
              " 'dalyarak': 972,\n",
              " 'aklýna': 973,\n",
              " 'sinema': 974,\n",
              " 'zirzop': 975,\n",
              " 'abaza': 976,\n",
              " 'barzo': 977,\n",
              " 'keko': 978,\n",
              " 'nedeniyle': 979,\n",
              " 'birileri': 980,\n",
              " 'anladýk': 981,\n",
              " 'iliþki': 982,\n",
              " 'verip': 983,\n",
              " 'þeylere': 984,\n",
              " 'suç': 985,\n",
              " 'puan': 986,\n",
              " 'sakýn': 987,\n",
              " 'verir': 988,\n",
              " 'sevmek': 989,\n",
              " 'caný': 990,\n",
              " 'sey': 991,\n",
              " 'insanlardan': 992,\n",
              " 'gidip': 993,\n",
              " 'baban': 994,\n",
              " 'katil': 995,\n",
              " 'þampiyon': 996,\n",
              " 'oluyorum': 997,\n",
              " 'dallama': 998,\n",
              " 'suriyeli': 999,\n",
              " 'sað': 1000,\n",
              " ...}"
            ]
          },
          "metadata": {},
          "execution_count": 93
        }
      ]
    },
    {
      "cell_type": "code",
      "source": [
        "train_sequences = tokenizer.texts_to_sequences(train_sentences)\n",
        "val_sequences = tokenizer.texts_to_sequences(val_sentences)"
      ],
      "metadata": {
        "id": "NZrgwgjtJ9E1"
      },
      "execution_count": 94,
      "outputs": []
    },
    {
      "cell_type": "code",
      "source": [
        "print(train_sentences[10:15])\n",
        "print(train_sequences[10:15])"
      ],
      "metadata": {
        "colab": {
          "base_uri": "https://localhost:8080/"
        },
        "id": "jpn-lZIrKDAT",
        "outputId": "80b43a62-27b3-464e-c5af-8cde4830e6b4"
      },
      "execution_count": 95,
      "outputs": [
        {
          "output_type": "stream",
          "name": "stdout",
          "text": [
            "['chp genel baþkaný kemal kýlýçdaroðlu nun eþi selvi kýlýçdaroðlu hazine maliye bakaný berat albayrak ýn eþi esra albayrak telefonla arayarak yeni doðan çocuðu ilgili sosyal medyadan yapýlan hakaret içerikli paylaþýmlar nedeniyle duyduðu üzüntüyü paylaþtý'\n",
            " 'beyin göçünü engellemeye çalýþtýðýmýz gençlere sosyal medyayý yasaklamak gerçekten dahiyane bir fikir'\n",
            " 'doða ana kullanýlmayan depoyu devralýyor'\n",
            " 'tarlasýný çekerken beni çekmedin söylenenen dayýnýn kendinin çekildiðinden habersiz oluþu'\n",
            " 'babanesini seven yoktur heralde anneneler kadar minnoþsa baanneler kadar çekilmez oluyo inþlah babane olmam ilerde aq kimse sevmez beni']\n",
            "[[462, 333, 317, 463, 2402, 1090, 1747, 5580, 2402, 5581, 2965, 806, 5582, 2966, 94, 1747, 2008, 2966, 5583, 9813, 88, 5584, 28, 390, 173, 2967, 408, 356, 2968, 5585, 979, 9814, 9815, 5586], [636, 5587, 5588, 5589, 1213, 173, 5590, 3841, 106, 5591, 1, 434], [1086, 514, 5592, 9816, 9817], [9818, 9819, 31, 9820, 9821, 9822, 9823, 9824, 3842, 9825], [9826, 1214, 464, 1364, 9827, 3, 9828, 9829, 3, 9830, 1748, 596, 9831, 5593, 5594, 37, 138, 5595, 31]]\n"
          ]
        }
      ]
    },
    {
      "cell_type": "code",
      "source": [
        "# dizileri aynı uzunluğa sahip olacak şekilde doldurun\n",
        "from tensorflow.keras.preprocessing.sequence import pad_sequences\n",
        "\n",
        "max_length=20\n",
        " \n",
        "train_padded= pad_sequences(train_sequences , maxlen=max_length , padding=\"post\",truncating=\"post\")\n",
        "val_padded= pad_sequences(val_sequences, maxlen=max_length, padding=\"post\" , truncating=\"post\")\n",
        "train_padded.shape , val_padded.shape"
      ],
      "metadata": {
        "colab": {
          "base_uri": "https://localhost:8080/"
        },
        "id": "xL9HMfVDKLBA",
        "outputId": "a737a211-c14e-404a-a4b3-8bfd780677a3"
      },
      "execution_count": 96,
      "outputs": [
        {
          "output_type": "execute_result",
          "data": {
            "text/plain": [
              "((9451, 20), (1668, 20))"
            ]
          },
          "metadata": {},
          "execution_count": 96
        }
      ]
    },
    {
      "cell_type": "code",
      "source": [
        "train_padded[10]"
      ],
      "metadata": {
        "colab": {
          "base_uri": "https://localhost:8080/"
        },
        "id": "5jr8dOKcKcRZ",
        "outputId": "9ea3962c-2632-4c3c-a8d2-712410012236"
      },
      "execution_count": 97,
      "outputs": [
        {
          "output_type": "execute_result",
          "data": {
            "text/plain": [
              "array([ 462,  333,  317,  463, 2402, 1090, 1747, 5580, 2402, 5581, 2965,\n",
              "        806, 5582, 2966,   94, 1747, 2008, 2966, 5583, 9813], dtype=int32)"
            ]
          },
          "metadata": {},
          "execution_count": 97
        }
      ]
    },
    {
      "cell_type": "code",
      "source": [
        "print(train_sentences[10])\n",
        "print(train_sequences[10])\n",
        "print(train_padded[10])"
      ],
      "metadata": {
        "colab": {
          "base_uri": "https://localhost:8080/"
        },
        "id": "WweK-WB8Kd0s",
        "outputId": "82c90134-6c16-429c-9f6c-9c1f08c5d9b3"
      },
      "execution_count": 98,
      "outputs": [
        {
          "output_type": "stream",
          "name": "stdout",
          "text": [
            "chp genel baþkaný kemal kýlýçdaroðlu nun eþi selvi kýlýçdaroðlu hazine maliye bakaný berat albayrak ýn eþi esra albayrak telefonla arayarak yeni doðan çocuðu ilgili sosyal medyadan yapýlan hakaret içerikli paylaþýmlar nedeniyle duyduðu üzüntüyü paylaþtý\n",
            "[462, 333, 317, 463, 2402, 1090, 1747, 5580, 2402, 5581, 2965, 806, 5582, 2966, 94, 1747, 2008, 2966, 5583, 9813, 88, 5584, 28, 390, 173, 2967, 408, 356, 2968, 5585, 979, 9814, 9815, 5586]\n",
            "[ 462  333  317  463 2402 1090 1747 5580 2402 5581 2965  806 5582 2966\n",
            "   94 1747 2008 2966 5583 9813]\n"
          ]
        }
      ]
    },
    {
      "cell_type": "code",
      "source": [
        "# Burada indexleri tersine çevirerek kontrol ediyoruz\n",
        "reverse_word_index= dict([(idx , word) for  (word,idx) in word_index.items()])"
      ],
      "metadata": {
        "id": "3r2vcVNuKkP3"
      },
      "execution_count": 99,
      "outputs": []
    },
    {
      "cell_type": "code",
      "source": [
        "def decode(sequence):\n",
        "  return \" \".join([reverse_word_index.get(idx , \"?\") for idx in sequence])"
      ],
      "metadata": {
        "id": "MYLwBf-EKt9b"
      },
      "execution_count": 100,
      "outputs": []
    },
    {
      "cell_type": "code",
      "source": [
        "decoded_text = decode(train_sequences[10])\n",
        "print(train_sequences[10])\n",
        "print(decoded_text)"
      ],
      "metadata": {
        "colab": {
          "base_uri": "https://localhost:8080/"
        },
        "id": "DpABoY1ZKvJJ",
        "outputId": "6363e7aa-caf2-4d11-9c42-024ab8cd6db7"
      },
      "execution_count": 101,
      "outputs": [
        {
          "output_type": "stream",
          "name": "stdout",
          "text": [
            "[462, 333, 317, 463, 2402, 1090, 1747, 5580, 2402, 5581, 2965, 806, 5582, 2966, 94, 1747, 2008, 2966, 5583, 9813, 88, 5584, 28, 390, 173, 2967, 408, 356, 2968, 5585, 979, 9814, 9815, 5586]\n",
            "chp genel baþkaný kemal kýlýçdaroðlu nun eþi selvi kýlýçdaroðlu hazine maliye bakaný berat albayrak ýn eþi esra albayrak telefonla arayarak yeni doðan çocuðu ilgili sosyal medyadan yapýlan hakaret içerikli paylaþýmlar nedeniyle duyduðu üzüntüyü paylaþtý\n"
          ]
        }
      ]
    },
    {
      "cell_type": "code",
      "source": [
        "#LSTM modeli yapıyoruz.\n",
        "\n",
        "from tensorflow.keras import layers\n",
        "\n",
        "model = keras.models.Sequential()\n",
        "model.add(layers.Embedding(num_unique_words, 32 , input_length=max_length))\n",
        "\n",
        "\n",
        "model.add(layers.LSTM(64, dropout=0.1))\n",
        "model.add(layers.Dense(1, activation=\"sigmoid\"))\n",
        "\n",
        "model.summary()"
      ],
      "metadata": {
        "colab": {
          "base_uri": "https://localhost:8080/"
        },
        "id": "SiuyvWEnK3Bg",
        "outputId": "e141860f-ef5c-46ab-b412-35d91b1aaab2"
      },
      "execution_count": 102,
      "outputs": [
        {
          "output_type": "stream",
          "name": "stdout",
          "text": [
            "Model: \"sequential_4\"\n",
            "_________________________________________________________________\n",
            " Layer (type)                Output Shape              Param #   \n",
            "=================================================================\n",
            " embedding_4 (Embedding)     (None, 20, 32)            1152160   \n",
            "                                                                 \n",
            " lstm_4 (LSTM)               (None, 64)                24832     \n",
            "                                                                 \n",
            " dense_4 (Dense)             (None, 1)                 65        \n",
            "                                                                 \n",
            "=================================================================\n",
            "Total params: 1,177,057\n",
            "Trainable params: 1,177,057\n",
            "Non-trainable params: 0\n",
            "_________________________________________________________________\n"
          ]
        }
      ]
    },
    {
      "cell_type": "code",
      "source": [
        "loss = keras.losses.BinaryCrossentropy(from_logits=False)\n",
        "optim= keras.optimizers.Adam(lr=0.001)\n",
        "metrics= [\"accuracy\"]\n",
        "\n",
        "model.compile(loss=loss, optimizer=optim, metrics=metrics)"
      ],
      "metadata": {
        "colab": {
          "base_uri": "https://localhost:8080/"
        },
        "id": "Yz6W0h1QLPq7",
        "outputId": "269331eb-6a22-49f4-843a-42d4176f5f87"
      },
      "execution_count": 103,
      "outputs": [
        {
          "output_type": "stream",
          "name": "stderr",
          "text": [
            "WARNING:absl:`lr` is deprecated, please use `learning_rate` instead, or use the legacy optimizer, e.g.,tf.keras.optimizers.legacy.Adam.\n"
          ]
        }
      ]
    },
    {
      "cell_type": "code",
      "source": [
        "model.fit(train_padded, train_labels, epochs=20, validation_data=(val_padded, val_labels), verbose=2)\n",
        "#training kısmını burada yaptık doğruluk %71 -datanın %75 ile eğitim yaptığımda\n",
        "#training kısmını burada yaptık doğruluk %69 -datanın %85 ile eğitim yaptığımda"
      ],
      "metadata": {
        "colab": {
          "base_uri": "https://localhost:8080/"
        },
        "id": "1qDJxs9sLZWu",
        "outputId": "bd8a40da-bfbe-4bec-8e6f-132470366fbf"
      },
      "execution_count": 104,
      "outputs": [
        {
          "output_type": "stream",
          "name": "stdout",
          "text": [
            "Epoch 1/20\n",
            "296/296 - 12s - loss: 0.4894 - accuracy: 0.7453 - val_loss: 0.6319 - val_accuracy: 0.7212 - 12s/epoch - 42ms/step\n",
            "Epoch 2/20\n",
            "296/296 - 8s - loss: 0.1348 - accuracy: 0.9521 - val_loss: 0.7646 - val_accuracy: 0.6954 - 8s/epoch - 26ms/step\n",
            "Epoch 3/20\n",
            "296/296 - 9s - loss: 0.0377 - accuracy: 0.9891 - val_loss: 0.9550 - val_accuracy: 0.7032 - 9s/epoch - 29ms/step\n",
            "Epoch 4/20\n",
            "296/296 - 9s - loss: 0.0219 - accuracy: 0.9941 - val_loss: 1.4337 - val_accuracy: 0.6841 - 9s/epoch - 29ms/step\n",
            "Epoch 5/20\n",
            "296/296 - 8s - loss: 0.0146 - accuracy: 0.9966 - val_loss: 0.9831 - val_accuracy: 0.7044 - 8s/epoch - 27ms/step\n",
            "Epoch 6/20\n",
            "296/296 - 9s - loss: 0.0083 - accuracy: 0.9975 - val_loss: 1.5046 - val_accuracy: 0.7032 - 9s/epoch - 30ms/step\n",
            "Epoch 7/20\n",
            "296/296 - 9s - loss: 0.0073 - accuracy: 0.9980 - val_loss: 1.8129 - val_accuracy: 0.6990 - 9s/epoch - 30ms/step\n",
            "Epoch 8/20\n",
            "296/296 - 8s - loss: 0.0088 - accuracy: 0.9982 - val_loss: 1.5864 - val_accuracy: 0.7050 - 8s/epoch - 27ms/step\n",
            "Epoch 9/20\n",
            "296/296 - 9s - loss: 0.0085 - accuracy: 0.9980 - val_loss: 1.2473 - val_accuracy: 0.7038 - 9s/epoch - 30ms/step\n",
            "Epoch 10/20\n",
            "296/296 - 9s - loss: 0.0084 - accuracy: 0.9981 - val_loss: 1.2487 - val_accuracy: 0.6799 - 9s/epoch - 29ms/step\n",
            "Epoch 11/20\n",
            "296/296 - 8s - loss: 0.0045 - accuracy: 0.9988 - val_loss: 1.7787 - val_accuracy: 0.7038 - 8s/epoch - 26ms/step\n",
            "Epoch 12/20\n",
            "296/296 - 9s - loss: 0.0053 - accuracy: 0.9983 - val_loss: 1.7281 - val_accuracy: 0.7020 - 9s/epoch - 29ms/step\n",
            "Epoch 13/20\n",
            "296/296 - 9s - loss: 0.0037 - accuracy: 0.9989 - val_loss: 2.2235 - val_accuracy: 0.7014 - 9s/epoch - 29ms/step\n",
            "Epoch 14/20\n",
            "296/296 - 8s - loss: 0.0019 - accuracy: 0.9990 - val_loss: 2.1569 - val_accuracy: 0.7032 - 8s/epoch - 27ms/step\n",
            "Epoch 15/20\n",
            "296/296 - 9s - loss: 0.0037 - accuracy: 0.9989 - val_loss: 1.9229 - val_accuracy: 0.6996 - 9s/epoch - 29ms/step\n",
            "Epoch 16/20\n",
            "296/296 - 9s - loss: 0.0015 - accuracy: 0.9994 - val_loss: 2.2705 - val_accuracy: 0.7068 - 9s/epoch - 29ms/step\n",
            "Epoch 17/20\n",
            "296/296 - 8s - loss: 6.4628e-04 - accuracy: 0.9996 - val_loss: 2.2638 - val_accuracy: 0.7032 - 8s/epoch - 26ms/step\n",
            "Epoch 18/20\n",
            "296/296 - 9s - loss: 6.1795e-04 - accuracy: 0.9996 - val_loss: 2.2634 - val_accuracy: 0.7002 - 9s/epoch - 29ms/step\n",
            "Epoch 19/20\n",
            "296/296 - 9s - loss: 5.8738e-04 - accuracy: 0.9996 - val_loss: 2.6902 - val_accuracy: 0.6930 - 9s/epoch - 29ms/step\n",
            "Epoch 20/20\n",
            "296/296 - 8s - loss: 0.0013 - accuracy: 0.9996 - val_loss: 2.7094 - val_accuracy: 0.6637 - 8s/epoch - 27ms/step\n"
          ]
        },
        {
          "output_type": "execute_result",
          "data": {
            "text/plain": [
              "<keras.callbacks.History at 0x7f67845fe9d0>"
            ]
          },
          "metadata": {},
          "execution_count": 104
        }
      ]
    },
    {
      "cell_type": "code",
      "source": [
        "predictions = model.predict(train_padded)\n",
        "predictions = [1 if p > 0.5 else 0 for p in predictions]"
      ],
      "metadata": {
        "colab": {
          "base_uri": "https://localhost:8080/"
        },
        "id": "aLhOVkMcVbqS",
        "outputId": "308f17da-de6a-49c1-f9c4-db067381c4c5"
      },
      "execution_count": 105,
      "outputs": [
        {
          "output_type": "stream",
          "name": "stdout",
          "text": [
            "296/296 [==============================] - 3s 7ms/step\n"
          ]
        }
      ]
    },
    {
      "cell_type": "code",
      "source": [
        "print(train_sentences[10:20])\n",
        "\n",
        "print(train_labels[10:20])\n",
        "print(predictions[10:20])"
      ],
      "metadata": {
        "colab": {
          "base_uri": "https://localhost:8080/"
        },
        "id": "U9RbfJH5Vd8Y",
        "outputId": "0c0db144-b0ae-4e65-9aa0-f2fe2c66c3bd"
      },
      "execution_count": 106,
      "outputs": [
        {
          "output_type": "stream",
          "name": "stdout",
          "text": [
            "['chp genel baþkaný kemal kýlýçdaroðlu nun eþi selvi kýlýçdaroðlu hazine maliye bakaný berat albayrak ýn eþi esra albayrak telefonla arayarak yeni doðan çocuðu ilgili sosyal medyadan yapýlan hakaret içerikli paylaþýmlar nedeniyle duyduðu üzüntüyü paylaþtý'\n",
            " 'beyin göçünü engellemeye çalýþtýðýmýz gençlere sosyal medyayý yasaklamak gerçekten dahiyane bir fikir'\n",
            " 'doða ana kullanýlmayan depoyu devralýyor'\n",
            " 'tarlasýný çekerken beni çekmedin söylenenen dayýnýn kendinin çekildiðinden habersiz oluþu'\n",
            " 'babanesini seven yoktur heralde anneneler kadar minnoþsa baanneler kadar çekilmez oluyo inþlah babane olmam ilerde aq kimse sevmez beni'\n",
            " 'merhaba konuyla ilgili yardýmcý olmak isteriz rtibat numaranýzý direkt mesaj olarak bize iletir misiniz'\n",
            " 'nietzsche böyle buyurdu zerdüþt te önce sen kendini inþa etmelisin dimdik bir beden dimdik bir ruhla diyor ekliyor derisini deðiþtirmeyen yýlan ölmeye mahkumdur durum fikirlerini deðiþtirmeyen zihinler geçerlidir sabit fikir büyük hapishanedir'\n",
            " 'hiçbir harekete geçen cehalet kadar korkunç olamaz'\n",
            " 'yine birileri deðiþimlerin tadýný çýkarmakla meþgul'\n",
            " 'stanley parable bir oyun var abi sevebilirsin cümlesini unutamadým bir eskiden ha evet bir skyrim diyorlar kýl cevaplar veriyordum bunlara artýk atýp geçiyom yaþlýlýk geldi bana']\n",
            "[1 1 1 1 0 1 1 1 1 1]\n",
            "[1, 1, 1, 1, 0, 1, 1, 1, 1, 1]\n"
          ]
        }
      ]
    },
    {
      "cell_type": "markdown",
      "source": [],
      "metadata": {
        "id": "T3_G5e-3IDe1"
      }
    }
  ]
}